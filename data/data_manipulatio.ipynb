{
 "cells": [
  {
   "cell_type": "markdown",
   "metadata": {},
   "source": [
    "### Split the json file to Train and Test"
   ]
  },
  {
   "cell_type": "code",
   "execution_count": 3,
   "metadata": {},
   "outputs": [],
   "source": [
    "import json\n",
    "from collections import defaultdict\n",
    "import os"
   ]
  },
  {
   "cell_type": "markdown",
   "metadata": {},
   "source": [
    "### Extraction Text"
   ]
  },
  {
   "cell_type": "code",
   "execution_count": 27,
   "metadata": {},
   "outputs": [],
   "source": [
    "# split data into train and test\n",
    "def read_in_data(file_name):\n",
    "    test_data = None\n",
    "    train = defaultdict()\n",
    "    with open(file_name, 'rb') as f:\n",
    "        test_data = json.load(f)\n",
    "    # with a minimum of 5 examples\n",
    "    percent_5 = max(int(len(test_data['Examples'][0]['Input']) * 0.05),5)\n",
    "    \n",
    "    if len(test_data['Examples'][0]['Input']) < 5:\n",
    "        if len(test_data['Examples'][0]['Output']) > 5:\n",
    "            inputstr = test_data['Examples'][0]['Input'][0]['Value']\n",
    "            ending_idx = test_data['Examples'][0]['Output'][5]['End']\n",
    "            \n",
    "            train['InputTable'] = test_data['Examples'][0]['Input'][0]\n",
    "            train['InputTable']['Value'] = inputstr[:ending_idx+10]\n",
    "\n",
    "            train['OutputTable'] = test_data['Examples'][0]['Output'][0: 5]\n",
    "            \n",
    "            train['TestingTable'] = test_data['Examples'][0]['Input'][0]\n",
    "            train['TestingTable']['Value'] = inputstr[ending_idx :]\n",
    "            train['TestingTable']['Start'] = ending_idx\n",
    "            \n",
    "            train['TestAnswer'] = test_data['Examples'][0]['Output'][5:]\n",
    "\n",
    "    else:\n",
    "        train['InputTable'] = test_data['Examples'][0]['Input'][0: percent_5]\n",
    "        train['OutputTable'] = test_data['Examples'][0]['Output'][0: percent_5]\n",
    "        train['TestingTable'] = test_data['Examples'][0]['Input'][percent_5:]\n",
    "        train['TestAnswer'] = test_data['Examples'][0]['Output'][percent_5:]\n",
    "\n",
    "    return train"
   ]
  },
  {
   "cell_type": "code",
   "execution_count": 28,
   "metadata": {},
   "outputs": [
    {
     "name": "stdout",
     "output_type": "stream",
     "text": [
      "prose/Extraction.Text/Log.000003/DateStruct.Date.spec.json\n",
      "75\n",
      "prose/Extraction.Text/Log.000003/root.DateStruct.spec.json\n",
      "38999\n",
      "prose/Extraction.Text/Log.000003/root.Date.spec.json\n",
      "38999\n",
      "prose/Extraction.Text/Log.000002/root.Definition.spec.json\n",
      "509\n",
      "prose/Extraction.Text/Log.000002/State.StateFlag.spec.json\n",
      "23\n",
      "prose/Extraction.Text/Log.000002/Type.TypeFlag.spec.json\n",
      "20\n",
      "prose/Extraction.Text/Log.000002/root.BaseAddress.spec.json\n",
      "509\n",
      "prose/Extraction.Text/Log.000002/root.StateFlag.spec.json\n",
      "509\n",
      "prose/Extraction.Text/Log.000002/Protect.ProtectDefinition.spec.json\n",
      "21\n",
      "prose/Extraction.Text/Log.000002/BaseAddressStruct.RegionSize.spec.json\n",
      "157\n",
      "prose/Extraction.Text/Log.000002/root.State.spec.json\n",
      "509\n",
      "prose/Extraction.Text/Log.000002/BaseAddressStruct.StateFlag.spec.json\n",
      "157\n",
      "prose/Extraction.Text/Log.000002/BaseAddressStruct.StateDefinition.spec.json\n",
      "157\n",
      "prose/Extraction.Text/Log.000002/root.StateDefinition.spec.json\n",
      "509\n",
      "prose/Extraction.Text/Log.000002/root.ProtectFlag.spec.json\n",
      "509\n",
      "prose/Extraction.Text/Log.000002/root.RegionSize.spec.json\n",
      "509\n",
      "prose/Extraction.Text/Log.000002/BaseAddressStruct.State.spec.json\n",
      "157\n",
      "prose/Extraction.Text/Log.000002/Type.Definition.spec.json\n",
      "20\n",
      "prose/Extraction.Text/Log.000002/BaseAddressStruct.Protect.spec.json\n",
      "157\n",
      "prose/Extraction.Text/Log.000002/BaseAddressStruct.Definition.spec.json\n",
      "197\n",
      "prose/Extraction.Text/Log.000002/State.StateDefinition.spec.json\n",
      "23\n",
      "prose/Extraction.Text/Log.000002/Protect.ProtectFlag.spec.json\n",
      "21\n",
      "prose/Extraction.Text/Log.000002/BaseAddressStruct.ProtectFlag.spec.json\n",
      "157\n",
      "prose/Extraction.Text/Log.000002/root.Type.spec.json\n",
      "509\n",
      "prose/Extraction.Text/Log.000002/BaseAddressStruct.TypeFlag.spec.json\n",
      "197\n",
      "prose/Extraction.Text/Log.000002/BaseAddressStruct.Type.spec.json\n",
      "197\n",
      "prose/Extraction.Text/Log.000002/root.BaseAddressStruct.spec.json\n",
      "509\n",
      "prose/Extraction.Text/Log.000002/root.ProtectDefinition.spec.json\n",
      "509\n",
      "prose/Extraction.Text/Log.000002/BaseAddressStruct.BaseAddress.spec.json\n",
      "157\n",
      "prose/Extraction.Text/Log.000002/root.Protect.spec.json\n",
      "509\n",
      "prose/Extraction.Text/Log.000002/BaseAddressStruct.ProtectDefinition.spec.json\n",
      "157\n",
      "prose/Extraction.Text/Log.000002/root.TypeFlag.spec.json\n",
      "509\n",
      "prose/Extraction.Text/CountryOrRegion.000001/root.No2.spec.json\n",
      "417\n",
      "prose/Extraction.Text/CountryOrRegion.000001/Record.CountryOrRegion.spec.json\n",
      "38\n",
      "prose/Extraction.Text/CountryOrRegion.000001/Record.No2.spec.json\n",
      "38\n",
      "prose/Extraction.Text/CountryOrRegion.000001/root.Record.spec.json\n",
      "417\n",
      "prose/Extraction.Text/CountryOrRegion.000001/Record.Continent.spec.json\n",
      "38\n",
      "prose/Extraction.Text/CountryOrRegion.000001/Record.No1.spec.json\n",
      "38\n",
      "prose/Extraction.Text/CountryOrRegion.000001/root.No1.spec.json\n",
      "417\n",
      "prose/Extraction.Text/CountryOrRegion.000001/root.Continent.spec.json\n",
      "417\n",
      "prose/Extraction.Text/CountryOrRegion.000001/root.CountryOrRegion.spec.json\n",
      "417\n",
      "prose/Extraction.Text/Address.000001/Address.Street.spec.json\n",
      "32\n",
      "prose/Extraction.Text/Address.000001/PersonInfo.Name.spec.json\n",
      "59\n",
      "prose/Extraction.Text/Address.000001/PersonInfo.City.spec.json\n",
      "59\n",
      "prose/Extraction.Text/Address.000001/root.State.spec.json\n",
      "1146\n",
      "prose/Extraction.Text/Address.000001/PersonInfo.State.spec.json\n",
      "59\n",
      "prose/Extraction.Text/Address.000001/root.Name.spec.json\n",
      "1146\n",
      "prose/Extraction.Text/Address.000001/root.City.spec.json\n",
      "1146\n",
      "prose/Extraction.Text/Address.000001/PersonInfo.Street.spec.json\n",
      "59\n",
      "prose/Extraction.Text/Address.000001/Address.State.spec.json\n",
      "32\n",
      "prose/Extraction.Text/Address.000001/Address.City.spec.json\n",
      "32\n",
      "prose/Extraction.Text/Address.000001/root.Phone.spec.json\n",
      "1146\n",
      "prose/Extraction.Text/Address.000001/PersonInfo.Phone.spec.json\n",
      "59\n",
      "prose/Extraction.Text/Address.000001/root.Address.spec.json\n",
      "1146\n",
      "prose/Extraction.Text/Address.000001/root.PersonInfo.spec.json\n",
      "1146\n",
      "prose/Extraction.Text/Address.000001/root.Street.spec.json\n",
      "1146\n",
      "prose/Extraction.Text/Address.000001/PersonInfo.Address.spec.json\n",
      "59\n",
      "prose/Extraction.Text/Company.000002/root.field4.spec.json\n",
      "3512\n",
      "prose/Extraction.Text/Company.000002/region0.field1.spec.json\n",
      "33\n",
      "prose/Extraction.Text/Company.000002/root.field2.spec.json\n",
      "3512\n",
      "prose/Extraction.Text/Company.000002/root.field3.spec.json\n",
      "3512\n",
      "prose/Extraction.Text/Company.000002/root.region0.spec.json\n",
      "3512\n",
      "prose/Extraction.Text/Company.000002/region0.field3.spec.json\n",
      "33\n",
      "prose/Extraction.Text/Company.000002/region0.field4.spec.json\n",
      "33\n",
      "prose/Extraction.Text/Company.000002/region0.field2.spec.json\n",
      "33\n",
      "prose/Extraction.Text/Company.000002/root.field1.spec.json\n",
      "3512\n",
      "prose/Extraction.Text/IpAddress.000001/root.InternetStruct.spec.json\n",
      "1399\n",
      "prose/Extraction.Text/IpAddress.000001/InternetStruct.Physical.spec.json\n",
      "65\n",
      "prose/Extraction.Text/IpAddress.000001/root.Type.spec.json\n",
      "1399\n",
      "prose/Extraction.Text/IpAddress.000001/root.Physical.spec.json\n",
      "1399\n",
      "prose/Extraction.Text/IpAddress.000001/InternetStruct.Type.spec.json\n",
      "65\n",
      "prose/Extraction.Text/IpAddress.000001/root.Internet.spec.json\n",
      "1399\n",
      "prose/Extraction.Text/IpAddress.000001/InternetStruct.Internet.spec.json\n",
      "65\n",
      "prose/Extraction.Text/Product.000001/root.Product.spec.json\n",
      "2876\n",
      "prose/Extraction.Text/Product.000001/Product.Price4.spec.json\n",
      "168\n",
      "prose/Extraction.Text/Product.000001/Product.Price2.spec.json\n",
      "168\n",
      "prose/Extraction.Text/Product.000001/root.Price3.spec.json\n",
      "2876\n",
      "prose/Extraction.Text/Product.000001/root.Price4.spec.json\n",
      "2876\n",
      "prose/Extraction.Text/Product.000001/Product.Price3.spec.json\n",
      "168\n",
      "prose/Extraction.Text/Product.000001/root.Price2.spec.json\n",
      "2876\n",
      "prose/Extraction.Text/Product.000001/Product.Category.spec.json\n",
      "168\n",
      "prose/Extraction.Text/Product.000001/root.Price1.spec.json\n",
      "2876\n",
      "prose/Extraction.Text/Product.000001/root.ProductName.spec.json\n",
      "2876\n",
      "prose/Extraction.Text/Product.000001/root.Category.spec.json\n",
      "2876\n",
      "prose/Extraction.Text/Product.000001/Product.ProductName.spec.json\n",
      "168\n",
      "prose/Extraction.Text/Product.000001/Product.Price1.spec.json\n",
      "168\n",
      "prose/Extraction.Text/Faculty.000001/Record.Position.spec.json\n",
      "356\n",
      "prose/Extraction.Text/Faculty.000001/Record.email.spec.json\n",
      "356\n",
      "prose/Extraction.Text/Faculty.000001/root.office.spec.json\n",
      "15636\n",
      "prose/Extraction.Text/Faculty.000001/root.Name.spec.json\n",
      "15636\n",
      "prose/Extraction.Text/Faculty.000001/Record.Year.spec.json\n",
      "356\n",
      "prose/Extraction.Text/Faculty.000001/Record.Name.spec.json\n",
      "356\n",
      "prose/Extraction.Text/Faculty.000001/root.Record.spec.json\n",
      "15636\n",
      "prose/Extraction.Text/Faculty.000001/root.email.spec.json\n",
      "15636\n",
      "prose/Extraction.Text/Faculty.000001/root.Year.spec.json\n",
      "15636\n",
      "prose/Extraction.Text/Faculty.000001/root.fax.spec.json\n",
      "15636\n",
      "prose/Extraction.Text/Faculty.000001/root.Position.spec.json\n",
      "15636\n",
      "prose/Extraction.Text/Faculty.000001/root.phone.spec.json\n",
      "15636\n",
      "prose/Extraction.Text/Faculty.000001/Record.Alma.spec.json\n",
      "356\n",
      "prose/Extraction.Text/Faculty.000001/Record.phone.spec.json\n",
      "356\n",
      "prose/Extraction.Text/Faculty.000001/Record.fax.spec.json\n",
      "356\n",
      "prose/Extraction.Text/Faculty.000001/root.Alma.spec.json\n",
      "15636\n",
      "prose/Extraction.Text/Faculty.000001/Record.office.spec.json\n",
      "356\n",
      "prose/Extraction.Text/FileSystem.000001/DateStruct.Date.spec.json\n",
      "41\n",
      "prose/Extraction.Text/FileSystem.000001/root.Date.spec.json\n",
      "2017\n",
      "prose/Extraction.Text/Log.000001/root.BladeId.spec.json\n",
      "12163\n",
      "prose/Extraction.Text/Log.000001/root.Filename.spec.json\n",
      "12163\n",
      "prose/Extraction.Text/Log.000001/root.Record.spec.json\n",
      "12163\n",
      "prose/Extraction.Text/Log.000001/Record.BladeId.spec.json\n",
      "411\n",
      "prose/Extraction.Text/Log.000001/Record.Filename.spec.json\n",
      "411\n",
      "prose/Extraction.Text/Company.000001/StateStruct.State.spec.json\n",
      "810\n",
      "prose/Extraction.Text/Company.000001/StateStruct.BranchStruct.spec.json\n",
      "810\n",
      "prose/Extraction.Text/Company.000001/StateStruct.Branch.spec.json\n",
      "810\n",
      "prose/Extraction.Text/Company.000001/root.State.spec.json\n",
      "7760\n",
      "prose/Extraction.Text/Company.000001/root.StateStruct.spec.json\n",
      "7760\n",
      "prose/Extraction.Text/Company.000001/root.Branch.spec.json\n",
      "7760\n",
      "prose/Extraction.Text/Company.000001/BranchStruct.Branch.spec.json\n",
      "198\n",
      "prose/Extraction.Text/Header.000001/root.SubHeader.spec.json\n",
      "363\n",
      "prose/Extraction.Text/Header.000001/root.SubSubHeader.spec.json\n",
      "363\n",
      "prose/Extraction.Text/Header.000001/SubSubHeaderStruct.SubSubHeader.spec.json\n",
      "15\n",
      "prose/Extraction.Text/Header.000001/SubHeaderStruct.SubHeader.spec.json\n",
      "47\n",
      "prose/Extraction.Text/Header.000001/HeaderStruct.SubHeader.spec.json\n",
      "102\n",
      "prose/Extraction.Text/Header.000001/HeaderStruct.SubSubHeader.spec.json\n",
      "102\n",
      "prose/Extraction.Text/Header.000001/root.Header.spec.json\n",
      "363\n",
      "prose/Extraction.Text/Header.000001/SubHeaderStruct.SubSubHeader.spec.json\n",
      "47\n",
      "prose/Extraction.Text/Header.000001/HeaderStruct.Header.spec.json\n",
      "102\n",
      "prose/Extraction.Text/FileSystem.000005/root.Size.spec.json\n",
      "2017\n",
      "prose/Extraction.Text/FileSystem.000005/root.FreeSize.spec.json\n",
      "2017\n",
      "prose/Extraction.Text/FileSystem.000002/root.Dir.spec.json\n",
      "2017\n",
      "prose/Extraction.Text/FileSystem.000002/DirStruct.Dir.spec.json\n",
      "41\n",
      "prose/Extraction.Text/Employee.000001/IdStruct.Name.spec.json\n",
      "78\n",
      "prose/Extraction.Text/Employee.000001/IdStruct.Age.spec.json\n",
      "78\n",
      "prose/Extraction.Text/Employee.000001/root.Id.spec.json\n",
      "281\n",
      "prose/Extraction.Text/Employee.000001/root.Name.spec.json\n",
      "281\n",
      "prose/Extraction.Text/Employee.000001/IdStruct.Id.spec.json\n",
      "78\n",
      "prose/Extraction.Text/Employee.000001/root.Age.spec.json\n",
      "281\n",
      "prose/Extraction.Text/Employee.000001/root.IdStruct.spec.json\n",
      "281\n",
      "prose/Extraction.Text/FileSystem.000003/FileStruct.File.spec.json\n",
      "50\n",
      "prose/Extraction.Text/FileSystem.000003/root.File.spec.json\n",
      "2017\n",
      "prose/Extraction.Text/FileSystem.000004/FileStruct.File.spec.json\n",
      "49\n",
      "prose/Extraction.Text/FileSystem.000004/root.File.spec.json\n",
      "2017\n"
     ]
    }
   ],
   "source": [
    "\n",
    "folder_path = \"prose/Extraction.Text\"\n",
    "\n",
    "for sub_folder in os.listdir(folder_path):\n",
    "    # Iterate through all files in the folder\n",
    "    if sub_folder != '.DS_Store':\n",
    "\n",
    "        sub_folder_path = os.path.join(folder_path, sub_folder)\n",
    "        for filename in os.listdir(sub_folder_path):\n",
    "            # Join the folder path with the filename to get the full file path\n",
    "            if filename not in ['Split','output.json','input.txt','meta.json']:\n",
    "                file_path = os.path.join(sub_folder_path, filename)\n",
    "                print(file_path)\n",
    "                split_data = read_in_data(file_path)\n",
    "                \n",
    "                # create path for output file\n",
    "                new_folder_path = sub_folder_path+ '/Split'\n",
    "                if not os.path.exists(new_folder_path):\n",
    "                    os.makedirs(new_folder_path)\n",
    "                output_file_name = os.path.join(new_folder_path, filename)\n",
    "\n",
    "                # write the output file\n",
    "                with open(output_file_name, \"w\") as file: \n",
    "                    json.dump(split_data, file)\n",
    "\n"
   ]
  },
  {
   "cell_type": "code",
   "execution_count": 25,
   "metadata": {},
   "outputs": [
    {
     "name": "stdout",
     "output_type": "stream",
     "text": [
      "38999\n",
      "477\n",
      "{'Start': 467, 'End': 38999, 'Value': '\\n2\\t2024-10-04 10:31:40.373857\\t3918\\t6054\\t0\\t114ac440-4dd8-3fde-d584-66a9ee4a57c3\\n2\\t2024-10-04 06:30:06.768312\\t3918\\t6593\\t0\\tc119a9dd-69a1-f271-f050-9d312cdc3212\\n2\\t2024-10-04 09:36:59.525243\\t3918\\t6471\\t0\\t28c5b719-c5bb-8d6e-d9c3-9f082f76e0a4\\n2\\t2024-10-04 02:15:55.400608\\t3918\\t7389\\t0\\t2866864d-b686-5eca-3d87-b9120ea39ace\\n2\\t2024-10-04 12:24:30.149072\\t3918\\t5567\\t0\\teafbaa0a-e51c-12ec-6d31-3a7b720771ff\\n2\\t2024-10-04 08:58:23.827869\\t3918\\t9316\\t0\\tac551b96-0252-edab-1e0d-8758a4451683\\n2\\t2024-10-04 09:38:09.220490\\t3918\\t5236\\t0\\t4a3829f2-a50c-bd4c-ab7b-b19d2f3fd90a\\n2\\t2024-10-04 06:36:28.412339\\t3918\\t3022\\t0\\t47605ce8-0010-6633-1bb8-6c26c515afbc\\n2\\t2024-10-04 05:06:00.912619\\t3918\\t1859\\t0\\t1c1278e6-8a8c-fa71-ae6f-520623e86434\\n2\\t2024-10-04 08:11:37.712176\\t3918\\t1711\\t0\\tbc749bc4-4783-9118-a709-cc33336d3e72\\n2\\t2024-10-04 11:33:37.203626\\t3918\\t3871\\t0\\t14e8cb28-d790-da45-60fd-375647e61b11\\n2\\t2024-10-04 12:21:38.973680\\t3918\\t9903\\t0\\t08eb8173-56c4-e074-cb93-6750b4840375\\n2\\t2024-10-04 04:07:47.856474\\t3918\\t2269\\t0\\t6a89465c-1c77-c1b0-9811-1026b23b1bde\\n2\\t2024-10-04 01:06:13.086012\\t3918\\t2240\\t0\\t83157481-43e0-d05c-e541-8b103dcc6690\\n2\\t2024-10-04 08:31:03.990867\\t3918\\t1782\\t0\\te641f418-b38d-777a-d698-8b67b503b0f5\\n2\\t2024-10-04 10:26:12.728943\\t3918\\t8721\\t0\\tb156c4ea-4dad-b0cd-1f23-e5a04be246ae\\n2\\t2024-10-04 11:27:08.827715\\t3918\\t3247\\t0\\t1f8158d1-69d6-5a56-d278-a151b9134faf\\n1\\t2024-10-04 01:26:17.336881\\t3918\\t6497\\t0\\tedbe1a68-42c6-5687-6025-c6abe0a64ea3\\n2\\t2024-10-04 01:03:47.862779\\t3918\\t2385\\t0\\t1fc5cc70-afba-9c78-1e39-ee68a71b23eb\\n1\\t2024-10-04 06:04:56.384110\\t3918\\t8431\\t0\\tcca7cd59-e6e5-9487-e297-5707206057b5\\n2\\t2024-10-04 08:33:19.226415\\t3918\\t8045\\t0\\t50d41354-5de7-859e-42c0-8114d858d5b5\\n2\\t2024-10-04 11:33:55.320502\\t3918\\t4506\\t0\\t42859807-f106-f401-2287-443021919b42\\n2\\t2024-10-04 08:04:56.827244\\t3918\\t9490\\t0\\t6648fbb1-55f4-5f6b-c485-d73005e4f3a2\\n2\\t2024-10-04 11:52:27.696448\\t3918\\t3451\\t0\\t8b84be0a-88a0-6001-225f-440ec70aead3\\n2\\t2024-10-04 03:15:50.876420\\t3918\\t8979\\t0\\t458f43ba-6d1e-7db6-3559-0fecd755ff2a\\n2\\t2024-10-04 11:39:54.775708\\t3918\\t0227\\t0\\t18dc6fc3-44ed-082e-dbb0-c59870ba1b5d\\n2\\t2024-10-04 08:54:23.856003\\t3918\\t5220\\t0\\td53d6689-164c-9ad1-30f6-fdafe2147125\\n2\\t2024-10-04 07:21:21.464148\\t3918\\t5114\\t0\\tb22c4df6-8b8a-f1ca-43ab-e2cef6a7737f\\n2\\t2024-10-04 08:20:51.743372\\t3918\\t7234\\t0\\tc763716f-2007-e406-fe1d-e25fe2e67393\\n2\\t2024-10-04 02:24:41.148862\\t3918\\t3578\\t0\\tbd07cb9f-5c61-4a93-b3ba-6c3339980f70\\n2\\t2024-10-04 01:57:20.182045\\t3918\\t1123\\t0\\tb5d3bf30-086c-c351-338c-13b363afdae3\\n2\\t2024-10-04 08:01:34.795933\\t3918\\t1236\\t0\\tcf03639b-840a-5891-888e-5d96cee4806b\\n2\\t2024-10-04 02:49:13.396762\\t3918\\t8710\\t0\\t92a2d414-992f-af89-a8fe-f9c38807504b\\n2\\t2024-10-04 02:43:06.025761\\t3918\\t4050\\t0\\t42b53a49-48dc-81ce-f526-0d23f883344e\\n2\\t2024-10-04 10:07:18.879196\\t3918\\t7951\\t0\\t91a1e2c7-581a-b497-95c1-84f794ea0fe6\\n2\\t2024-10-04 03:30:25.308740\\t3918\\t3442\\t0\\t27799df6-a34e-7e0b-4c71-711a23d74317\\n2\\t2024-10-04 10:28:34.691678\\t3918\\t8370\\t0\\t4bbe9b58-8b53-ccfa-fc95-dbd609b5afe2\\n2\\t2024-10-04 02:39:51.006373\\t3918\\t1829\\t0\\tebd06a5e-def7-d6a4-a090-d2397bd97faf\\n2\\t2024-10-04 07:34:50.155375\\t3918\\t1089\\t0\\t79d414b5-37c7-0488-ed0b-d253fb16a843\\n2\\t2024-10-04 06:54:13.927437\\t3918\\t0397\\t0\\t980017e9-ef75-211f-c86b-9a856cd57c29\\n2\\t2024-10-04 07:47:07.998694\\t3918\\t8801\\t0\\te6ffb3d9-6e83-19f9-9b87-75bcfcc82ad7\\n1\\t2024-10-04 05:51:07.350109\\t3918\\t7998\\t0\\td3b906ec-580a-a658-9378-df673a7bf2e8\\n2\\t2024-10-04 01:55:58.921973\\t3918\\t7143\\t0\\t652395a5-1068-ec17-19ce-098d01de1a41\\n2\\t2024-10-04 08:50:26.536754\\t3918\\t1118\\t0\\t9ab4f97b-0dd4-415d-d36f-3105fd750682\\n2\\t2024-10-04 02:51:43.252557\\t3918\\t0103\\t0\\td49063a8-d81c-97de-1d73-35e763ff0903\\n1\\t2024-10-04 11:42:08.372771\\t3918\\t5119\\t0\\t34e3851b-0532-e802-5cdd-91b6ca3b810a\\n1\\t2024-10-04 03:12:12.722109\\t3918\\t2598\\t0\\t7fd98570-69af-dab0-4731-3cade58c8234\\n2\\t2024-10-04 04:37:02.551160\\t3918\\t4001\\t0\\t891923d2-bba2-ed2c-9cc6-1517acc9a8df\\n1\\t2024-10-04 09:30:35.741589\\t3918\\t5987\\t0\\t43299b2e-c268-f109-f14c-21383862b678\\n2\\t2024-10-04 06:37:15.345328\\t3918\\t9108\\t0\\t857c2074-77aa-5fa2-6afa-24e702f3a6f1\\n2\\t2024-10-04 02:19:53.341556\\t3918\\t1139\\t0\\t4fe728b2-d2f4-7304-34cd-5761901981df\\n2\\t2024-10-04 10:06:21.411242\\t3918\\t1930\\t0\\t2e4ba813-b198-c962-7ed1-cb77638113e3\\n2\\t2024-10-04 09:04:31.356953\\t3918\\t8076\\t0\\tbce984db-f1ad-2085-848a-9dd83faccb7c\\n2\\t2024-10-04 09:58:30.717952\\t3918\\t2203\\t0\\t5b01621d-a647-45d1-6c0a-1c92d68d3eaf\\n2\\t2024-10-04 03:26:56.926501\\t3918\\t1002\\t0\\t528e840e-99ff-2908-482d-c67aefb8ee06\\n2\\t2024-10-04 10:30:17.286667\\t3918\\t7498\\t0\\t27be5355-2d60-d000-b4b2-5b7271f8c4d4\\n2\\t2024-10-04 01:38:35.492125\\t3918\\t5868\\t0\\tb652564c-ab3d-249b-9307-a39e7ced5c69\\n2\\t2024-10-04 10:44:10.749490\\t3918\\t8100\\t0\\tf1637ae9-1d65-bee1-91fc-a399ac18d3dd\\n2\\t2024-10-04 05:02:44.972185\\t3918\\t5661\\t0\\tf1572049-314f-0581-e7cb-e8ce318e67c0\\n1\\t2024-10-04 12:48:10.375516\\t3918\\t4558\\t0\\t09c4c356-9365-b2d8-f230-593957e41f1f\\n2\\t2024-10-04 03:19:35.175746\\t3918\\t1514\\t0\\t81ad1c8b-30c0-af45-bfbd-567973013ded\\n2\\t2024-10-04 09:19:24.106245\\t3918\\t8757\\t0\\td3ca9c35-b5f3-3e93-d517-5786b7aecd5c\\n2\\t2024-10-04 03:36:36.998729\\t3918\\t4252\\t0\\t585f4ccc-14d9-0726-6a0e-20530f3f1121\\n2\\t2024-10-04 12:45:18.687217\\t3918\\t8671\\t0\\t3d3ef493-468b-e5b8-ee5d-53dc555a18b5\\n2\\t2024-10-04 12:13:44.052022\\t3918\\t5782\\t0\\t12d49ef7-c7dd-eb63-8987-69397d7f7e42\\n2\\t2024-10-04 09:16:39.421734\\t3918\\t6563\\t0\\t183cd9bd-0a6f-575e-ce93-24c28b093fcf\\n1\\t2024-10-04 10:58:02.983991\\t3918\\t9209\\t0\\t4989a746-8c95-f12f-6b9d-4ea4b20b2866\\n2\\t2024-10-04 03:45:00.075158\\t3918\\t8680\\t0\\td4294ac0-bc0b-816c-808a-b584864d4a4b\\n2\\t2024-10-04 03:01:13.655365\\t3918\\t6660\\t0\\t7d27f5a9-e288-6fc0-c8d8-e03f11bd4bf7\\n2\\t2024-10-04 01:35:12.228635\\t3918\\t1542\\t0\\td9734953-f2a8-254c-f5f5-ba315c8cb832\\n2\\t2024-10-04 02:49:10.192168\\t3918\\t3381\\t0\\tdc853d34-963d-76f0-0e44-ddca6545e1fc\\n2\\t2024-10-04 09:48:18.523580\\t3918\\t9642\\t0\\t7552597f-508e-504b-b28a-2cb68e367eee\\n2\\t2024-10-04 06:48:11.319903\\t3918\\t3235\\t0\\t9e984ea1-8d17-1a1f-608e-6eaaec96d845\\n2\\t2024-10-04 05:53:39.121735\\t3918\\t2739\\t0\\t4402e1f2-5403-f73e-bd34-22b9e324b384\\n2\\t2024-10-04 08:45:21.654726\\t3918\\t2753\\t0\\tfd03d0fb-b563-3f4f-a274-5260af723d35\\n2\\t2024-10-04 06:34:43.604798\\t3918\\t9480\\t0\\tecdbe89f-baf0-4226-ecc8-69c536a8f00a\\n2\\t2024-10-04 06:17:14.402768\\t3918\\t2566\\t0\\td132e239-5b3c-0200-9d96-280d6101b989\\n2\\t2024-10-04 10:57:51.433269\\t3918\\t5426\\t0\\t48a0c4a3-6163-5a73-6d4e-215d090c3cd8\\n2\\t2024-10-04 11:31:15.395778\\t3918\\t0502\\t0\\t1453c098-bfd3-5427-c4b7-7c8351948b7c\\n2\\t2024-10-04 10:19:43.023803\\t3918\\t1823\\t0\\te1a705da-f753-1a47-9d37-e6d554f4ed28\\n2\\t2024-10-04 10:29:00.298193\\t3918\\t5619\\t0\\td53bba92-9874-0276-8f4c-a01824bb6b69\\n2\\t2024-10-04 11:22:50.308416\\t3918\\t4569\\t0\\t2487a996-a90f-dc19-6144-97da32868f27\\n1\\t2024-10-04 12:25:02.666049\\t3918\\t9512\\t0\\t6e891d07-2cf2-2270-6928-673c2afb55c9\\n2\\t2024-10-04 09:43:39.697080\\t3918\\t0412\\t0\\t78fd4453-a934-309d-9482-0c0b35f18736\\n1\\t2024-10-04 04:41:20.602717\\t3918\\t1486\\t0\\t6a0a7f52-73a0-b7bd-c31c-6abf1d5312e4\\n2\\t2024-10-04 02:11:34.763652\\t3918\\t5694\\t0\\t7acdc5e6-c351-2f8d-66ed-b9635d0c8d6a\\n2\\t2024-10-04 09:33:14.771510\\t3918\\t7563\\t0\\tfcf0d8c0-3ea0-c7d4-7947-0c5abf0cd0e3\\n2\\t2024-10-04 09:17:39.159117\\t3918\\t7613\\t0\\te51ebb59-1324-21c0-9a54-9214a422420b\\n2\\t2024-10-04 09:25:44.407596\\t3918\\t7100\\t0\\te99de905-890f-e0e1-77db-a7c51d114158\\n2\\t2024-10-04 03:50:46.524675\\t3918\\t8289\\t0\\tdfe811e4-7cb4-78ce-677e-c23fcd3057f1\\n2\\t2024-10-04 03:15:53.637276\\t3918\\t9012\\t0\\t15791612-fde7-4c5c-640f-c2211d21bcbd\\n2\\t2024-10-04 11:15:34.909994\\t3918\\t7895\\t0\\t93adb066-f4f1-cb3a-6486-730f9052943e\\n1\\t2024-10-04 10:46:48.361942\\t3918\\t9901\\t0\\t826181db-707c-916c-e55a-f18fa74fce82\\n2\\t2024-10-04 02:17:14.062556\\t3918\\t9327\\t0\\t93646288-78d1-30be-75e0-cac13fb437e0\\n2\\t2024-10-04 03:05:46.526336\\t3918\\t2563\\t0\\t4715da3d-c665-b399-2747-d29be813c8a4\\n2\\t2024-10-04 07:59:00.366979\\t3918\\t2815\\t0\\taf912004-a18e-b29c-70bf-5c5bc94618d1\\n2\\t2024-10-04 05:46:55.269390\\t3918\\t3790\\t0\\t91925efc-6b47-6a66-98e5-315fb0f6bf02\\n2\\t2024-10-04 02:54:50.779909\\t3918\\t9455\\t0\\te6c74bbc-4801-6497-4d62-7bf5e49d6429\\n2\\t2024-10-04 09:52:16.934094\\t3918\\t0726\\t0\\t60a4873a-8b6e-bb9c-cb4c-dd53b50cb3e9\\n2\\t2024-10-04 08:51:53.027215\\t3918\\t0142\\t0\\t7eadf131-b1fe-8fba-1870-6b090dae0fd1\\n2\\t2024-10-04 08:31:58.261705\\t3918\\t3066\\t0\\t57b12fdb-3091-03fe-6dd7-c7c050b6f682\\n2\\t2024-10-04 05:33:16.712497\\t3918\\t7919\\t0\\t61e3b70b-a3d5-8aab-df11-3667308a0fa9\\n2\\t2024-10-04 03:48:06.023516\\t3918\\t3004\\t0\\t131164ff-5088-18c5-e3d0-b78f3c5602e5\\n2\\t2024-10-04 02:27:35.236739\\t3918\\t6910\\t0\\t9b48d431-eb0c-fa86-cfdc-5b1b0186f13a\\n2\\t2024-10-04 02:30:20.034575\\t3918\\t5753\\t0\\t18b31bfd-2381-551a-57f2-b850dcf75af0\\n2\\t2024-10-04 04:59:15.817303\\t3918\\t5323\\t0\\t80a0d16d-95ef-3c36-4b5b-92a07112ba3e\\n2\\t2024-10-04 03:30:52.578231\\t3918\\t8398\\t0\\t6fe07352-b756-7334-4ee9-ae155ccb2db2\\n2\\t2024-10-04 01:42:39.670814\\t3918\\t3388\\t0\\t91b9b757-910d-eb29-5091-b308f583773a\\n2\\t2024-10-04 06:39:59.814269\\t3918\\t5821\\t0\\t2c28d0f9-76d8-0e95-3b97-9458326c543c\\n2\\t2024-10-04 05:12:01.937668\\t3918\\t9225\\t0\\tf7cff84c-9b75-1973-3dac-84ee9a12e33e\\n2\\t2024-10-04 11:45:20.319904\\t3918\\t2195\\t0\\t7f6534a8-b963-7981-291e-b8acd42e5531\\n1\\t2024-10-04 05:33:33.982951\\t3918\\t0165\\t0\\tb0859514-baea-8a0d-6df1-f115fa6f4f82\\n2\\t2024-10-04 12:22:26.624932\\t3918\\t3880\\t0\\t04920bef-73c5-4aab-6301-560c49444892\\n2\\t2024-10-04 05:34:50.235525\\t3918\\t2090\\t0\\tb12a3f35-aa1a-2f8d-248d-2c7ca141c9e3\\n2\\t2024-10-04 10:14:52.742321\\t3918\\t1870\\t0\\tc49d6235-786a-5950-fde8-3329b0fbb050\\n2\\t2024-10-04 11:45:18.990181\\t3918\\t5479\\t0\\tcce2ddce-3faa-8da9-416d-f0ca9bc7a232\\n2\\t2024-10-04 06:39:20.358307\\t3918\\t3163\\t0\\tdc6976fb-c014-6807-5016-070c6ae255df\\n2\\t2024-10-04 05:45:45.654444\\t3918\\t1346\\t0\\t4a704c6a-f525-dece-780c-1ea04d2a2253\\n1\\t2024-10-04 02:12:28.808474\\t3918\\t0785\\t0\\t6653b4e1-5265-cb02-a37e-d29fe03b7c6c\\n2\\t2024-10-04 07:40:01.473468\\t3918\\t2069\\t0\\t08be5f84-9be2-26e9-061b-49032a2e03fa\\n2\\t2024-10-04 05:46:42.611584\\t3918\\t3455\\t0\\t465e4fca-bf51-6cee-8662-c67dae17ab5b\\n2\\t2024-10-04 08:17:51.722975\\t3918\\t9984\\t0\\t88a00e37-d7f0-97a6-b3cf-a1775e896069\\n2\\t2024-10-04 12:09:40.996005\\t3918\\t8220\\t0\\t488c6b9c-f6c1-5d90-09fb-22ce4cc455af\\n2\\t2024-10-04 12:03:46.591370\\t3918\\t7977\\t0\\t43e074d9-3fa8-226c-5cf6-07afe72f2888\\n2\\t2024-10-04 03:29:23.670037\\t3918\\t3575\\t0\\t5325f4d4-f9db-1f7f-9c1e-34f0ebee601f\\n2\\t2024-10-04 05:18:42.329287\\t3918\\t3882\\t0\\td9bf134e-b5c6-0a6b-12a6-dbc07e71b2d4\\n2\\t2024-10-04 03:59:38.134688\\t3918\\t9698\\t0\\te1d2933d-6647-4303-c7fd-73f9ff0d2505\\n2\\t2024-10-04 02:33:52.411344\\t3918\\t3445\\t0\\td7719f4a-549e-6911-ef79-a295a0c7f518\\n2\\t2024-10-04 01:06:13.463823\\t3918\\t4420\\t0\\t454bb5e8-65f0-9ca9-e2f5-d5a682b54cc6\\n2\\t2024-10-04 03:10:53.159637\\t3918\\t0516\\t0\\tdd22b503-5b8f-b0a3-395e-454f6cc8cf4d\\n1\\t2024-10-04 08:12:46.277420\\t3918\\t1846\\t0\\t7536f8ed-601c-83b0-dc82-d9ea417d5b46\\n2\\t2024-10-04 10:36:57.967263\\t3918\\t2137\\t0\\t6d7dee3c-5a48-e3b1-2e60-e7481967e7b9\\n2\\t2024-10-04 05:28:15.783761\\t3918\\t6847\\t0\\t81a9efd5-7aba-f261-5d34-e696039ece04\\n2\\t2024-10-04 06:44:18.721537\\t3918\\t5886\\t0\\t3b5645d3-7674-dbec-a418-8d9ea59cb0fd\\n2\\t2024-10-04 11:28:34.036503\\t3918\\t3684\\t0\\t91e0a230-6be9-e9b4-f392-2a87f32b7ac8\\n2\\t2024-10-04 03:50:42.320419\\t3918\\t5021\\t0\\t9628c0fa-09b1-4f7f-5a0e-5b1f49a5439c\\n2\\t2024-10-04 01:59:45.809832\\t3918\\t9489\\t0\\t219d1884-1f06-537e-7681-c63896440579\\n2\\t2024-10-04 06:00:09.684777\\t3918\\t5850\\t0\\t78b789fc-a5fa-cb00-c70c-31d6128a88eb\\n2\\t2024-10-04 03:25:41.112347\\t3918\\t3699\\t0\\t9db497cb-7c9a-1a62-1274-18a55f6e709b\\n2\\t2024-10-04 11:42:42.392320\\t3918\\t0343\\t0\\te80de28c-0d65-0e19-6b12-1510e032040e\\n2\\t2024-10-04 05:17:09.514196\\t3918\\t5412\\t0\\tfb2e4c59-918d-da51-2087-28f4c7efcb17\\n2\\t2024-10-04 01:49:44.202854\\t3918\\t7300\\t0\\t46e12646-cd0c-b2b2-6a31-9bbe673f3c37\\n2\\t2024-10-04 04:10:38.439323\\t3918\\t5458\\t0\\tf2fa504e-6b6f-9ed0-31fa-30dd90420170\\n2\\t2024-10-04 04:39:54.349209\\t3918\\t7606\\t0\\tb67a3089-5264-285d-8e49-0ec9765d315d\\n2\\t2024-10-04 12:30:09.165100\\t3918\\t7889\\t0\\t7c2196d9-43f2-f532-4dee-0818e40fa1f9\\n2\\t2024-10-04 12:35:18.803762\\t3918\\t5210\\t0\\t8bba88eb-144b-3451-6a1a-4b24374f63b5\\n2\\t2024-10-04 04:23:20.707046\\t3918\\t7444\\t0\\t421a0709-d697-d5d7-e058-ba03885bd431\\n2\\t2024-10-04 06:37:44.881560\\t3918\\t0545\\t0\\tdeb8de97-57d1-8ac2-b724-96be9a28a3b6\\n2\\t2024-10-04 11:22:46.622787\\t3918\\t4571\\t0\\t450ddba4-72be-3e2d-1a7b-4156a2dfb45d\\n2\\t2024-10-04 06:24:58.908391\\t3918\\t7446\\t0\\t4b90ac9e-b539-9309-5656-5f2c089dcde2\\n2\\t2024-10-04 06:07:40.702266\\t3918\\t5054\\t0\\tbd847e47-badd-287c-6d50-1b2c8ce952cb\\n2\\t2024-10-04 08:30:42.090988\\t3918\\t4815\\t0\\t14af05d2-bb8e-c17b-62f5-9f628aff37a9\\n1\\t2024-10-04 09:23:53.878272\\t3918\\t3001\\t0\\tf1e1e1eb-1fba-cc47-221a-80bab3e50bbd\\n2\\t2024-10-04 04:31:21.305994\\t3918\\t1579\\t0\\t08cf9d71-e640-39ae-ea2e-7f2a658fb336\\n2\\t2024-10-04 09:01:40.739561\\t3918\\t4177\\t0\\t89e0ce91-9aca-668c-c09b-8a9470d6e8de\\n2\\t2024-10-04 06:12:07.756652\\t3918\\t5332\\t0\\te6dfced0-255a-c4e2-85e5-09f2bf441b26\\n2\\t2024-10-04 12:38:53.535129\\t3918\\t4827\\t0\\tb3eb7002-3ea4-d13e-5ae6-74b1b9cc6b41\\n2\\t2024-10-04 09:30:21.076040\\t3918\\t3764\\t0\\t3ef74cc7-24f7-7249-bbea-f3ee7281ac6d\\n2\\t2024-10-04 08:19:05.974118\\t3918\\t4970\\t0\\t024b254e-1dd0-924a-9552-6dc83832e815\\n2\\t2024-10-04 01:42:07.372436\\t3918\\t4805\\t0\\t25d68b07-59cb-dbf7-4550-07ed2efb085e\\n2\\t2024-10-04 08:46:49.600625\\t3918\\t8145\\t0\\t86035d40-1c24-6dc3-e677-e0ac53475458\\n2\\t2024-10-04 03:32:06.370086\\t3918\\t1029\\t0\\t0fc980f6-428b-c5d0-d1f0-4169fb06da35\\n2\\t2024-10-04 01:48:48.778493\\t3918\\t1691\\t0\\t5f2090ea-7a66-4ca0-7a25-4b91c2767b50\\n1\\t2024-10-04 10:08:40.554326\\t3918\\t1976\\t0\\t780a93a6-d7ce-03ea-37df-0bc121cd72ae\\n2\\t2024-10-04 08:30:55.307026\\t3918\\t6012\\t0\\t44761a93-e793-0a5b-2d19-d9cc26a9dcc7\\n1\\t2024-10-04 07:45:04.581127\\t3918\\t7631\\t0\\t459182b4-7dd1-4dc6-9459-cae561f79224\\n2\\t2024-10-04 06:16:37.444461\\t3918\\t5099\\t0\\tf479beb0-d35e-853f-fcf2-c3d0549f682a\\n2\\t2024-10-04 12:39:01.090434\\t3918\\t3100\\t0\\t42ef1023-70ba-44f5-d548-7d7cd60de806\\n2\\t2024-10-04 01:14:00.033191\\t3918\\t7350\\t0\\t6db380a0-4856-63d1-e28e-4819aa7faaf3\\n1\\t2024-10-04 06:36:23.096916\\t3918\\t1475\\t0\\tf392fef8-fe06-c8bb-3021-229a91241ab4\\n2\\t2024-10-04 06:10:07.834701\\t3918\\t7604\\t0\\t7a64fc1a-d44e-d9fb-8230-f570c67848a7\\n2\\t2024-10-04 03:21:18.108488\\t3918\\t9782\\t0\\tbffee4a1-951d-6c06-6a3f-67b37fa8c4a7\\n2\\t2024-10-04 07:03:33.202415\\t3918\\t0884\\t0\\tf4bdd70c-6879-fc58-e3ac-9ddda59ec705\\n2\\t2024-10-04 11:36:33.942828\\t3918\\t3201\\t0\\tb4d8c58d-fa22-c9a2-af61-67c903acbda5\\n2\\t2024-10-04 07:23:29.680655\\t3918\\t3674\\t0\\tb0b7d531-49ed-4e64-7857-deb831e03c89\\n1\\t2024-10-04 02:45:59.600231\\t3918\\t8162\\t0\\te53fa580-e9ae-68b0-ac34-59228fc14939\\n2\\t2024-10-04 01:28:27.367617\\t3918\\t4029\\t0\\t2119db0f-1268-1765-db7e-9c818e8f3fca\\n2\\t2024-10-04 12:06:46.840600\\t3918\\t6590\\t0\\t0c71db3d-12f7-9339-67a9-5ddd4f3914db\\n1\\t2024-10-04 11:25:04.988763\\t3918\\t5394\\t0\\t6f19c622-fe58-d8d2-db18-f5effc7d6784\\n2\\t2024-10-04 02:25:40.414301\\t3918\\t1677\\t0\\ta3291564-7723-80e0-906a-36b6aca14214\\n2\\t2024-10-04 08:42:27.150800\\t3918\\t4145\\t0\\t4952b48d-a9f9-c6e0-451a-bd895c35e981\\n2\\t2024-10-04 04:57:26.370476\\t3918\\t8603\\t0\\t9194b2e1-ecf8-6410-aac9-88ae9d283b32\\n2\\t2024-10-04 04:39:43.411650\\t3918\\t7383\\t0\\tc9bbfc78-3808-c3cc-4882-7011fd2c9318\\n2\\t2024-10-04 04:43:28.374868\\t3918\\t1117\\t0\\tf870d46d-fb58-0b64-3631-95a804ef52da\\n2\\t2024-10-04 02:39:56.181277\\t3918\\t3695\\t0\\tbc986b78-89ec-0bf6-67ee-17f433bbfe81\\n2\\t2024-10-04 04:03:20.038082\\t3918\\t2127\\t0\\t53e3adde-ec24-deee-f52a-3bc17d5a84d7\\n2\\t2024-10-04 05:41:44.204383\\t3918\\t9480\\t0\\t44dc9390-f0c7-9290-6129-bedc833f0290\\n2\\t2024-10-04 08:27:21.448736\\t3918\\t4072\\t0\\t576a32a0-b6c7-b1c4-84d5-856434e095ec\\n2\\t2024-10-04 09:07:15.215692\\t3918\\t0206\\t0\\tabbae81a-db6c-d531-e865-27268715aa92\\n2\\t2024-10-04 04:27:53.367216\\t3918\\t9080\\t0\\td23b0452-65a1-b6b2-a05a-3913e2745aae\\n2\\t2024-10-04 08:23:09.882300\\t3918\\t0753\\t0\\t3ea6e78b-6214-f157-d5c7-ddf973c8daf9\\n2\\t2024-10-04 08:50:54.824421\\t3918\\t7900\\t0\\ta498f76c-07e4-9a3a-676b-7f52b1ff8888\\n2\\t2024-10-04 03:03:24.529376\\t3918\\t4126\\t0\\t74aa748b-0141-185b-1bef-4a0020c1839a\\n1\\t2024-10-04 10:52:25.773263\\t3918\\t8786\\t0\\t1689d95b-d389-3fbe-637a-28a486e36fe6\\n2\\t2024-10-04 07:45:56.971520\\t3918\\t4524\\t0\\t2de3fac1-5e13-ef1a-c6c8-1ae64be6c140\\n1\\t2024-10-04 03:24:38.215500\\t3918\\t2353\\t0\\t5f2b055e-5b5d-6841-dae9-2e47ed45036f\\n2\\t2024-10-04 04:39:23.119165\\t3918\\t2676\\t0\\tf3e77655-11e0-064a-6330-23cf3d37d4d1\\n2\\t2024-10-04 03:08:03.240598\\t3918\\t8396\\t0\\tf0735c21-4a61-e90b-f0be-c4a0f5dd51e3\\n2\\t2024-10-04 09:29:44.229243\\t3918\\t2880\\t0\\tca8a2421-0212-7c00-b87c-1b77087cfb92\\n2\\t2024-10-04 01:28:44.044199\\t3918\\t7139\\t0\\t3d06b4d4-6ca0-9527-4750-a94d5482785a\\n2\\t2024-10-04 07:16:37.998158\\t3918\\t3823\\t0\\taafb0dce-10ff-ea38-f987-f73853b08aae\\n2\\t2024-10-04 08:28:57.439882\\t3918\\t3086\\t0\\t35b5112d-9948-5f74-f771-1ba9ca65d206\\n2\\t2024-10-04 05:11:35.163088\\t3918\\t5335\\t0\\tdc4abb4b-6691-3465-fb4a-4172285418c9\\n2\\t2024-10-04 03:40:53.795821\\t3918\\t1297\\t0\\t20f89914-9419-0278-923d-c257d1d87765\\n2\\t2024-10-04 12:17:37.047880\\t3918\\t0912\\t0\\tbba17e2d-73a7-bc91-acea-166f1b234c62\\n1\\t2024-10-04 05:03:50.346849\\t3918\\t8351\\t0\\t7eb84c09-172c-406b-9d30-7413131ecc34\\n2\\t2024-10-04 02:00:46.106290\\t3918\\t0781\\t0\\t79b963dd-fbd7-f95f-08a2-89f1e68402b7\\n2\\t2024-10-04 10:26:28.787659\\t3918\\t2849\\t0\\tbc026c78-d4be-66d4-8529-9ef934b717bc\\n2\\t2024-10-04 11:53:38.882156\\t3918\\t6701\\t0\\t68560824-8dd4-1c97-93f8-8af11e2e6be2\\n2\\t2024-10-04 03:38:53.815310\\t3918\\t1434\\t0\\t13294602-6913-6e78-fae0-f5a51639a3de\\n2\\t2024-10-04 03:44:26.348805\\t3918\\t5668\\t0\\tbd873237-fca0-2060-7392-c91026af8fb6\\n2\\t2024-10-04 05:34:43.975247\\t3918\\t5038\\t0\\t2ac5f1b1-a025-5c11-ce30-be5ba49c293f\\n2\\t2024-10-04 03:35:42.593536\\t3918\\t5990\\t0\\t7f91aea9-0b07-040c-69d1-1fab92069bda\\n2\\t2024-10-04 07:44:05.967598\\t3918\\t6512\\t0\\t82fb59d7-b3e0-057b-61fd-1f534867649d\\n2\\t2024-10-04 07:05:11.185020\\t3918\\t4508\\t0\\t2cae3844-64a3-4b7c-3d85-96fa9a645b59\\n1\\t2024-10-04 01:15:57.475290\\t3918\\t1559\\t0\\ted2aa976-d9aa-0f58-aefb-aa4647e6b4c9\\n1\\t2024-10-04 03:43:26.430214\\t3918\\t8539\\t0\\tc0647f16-0501-f3f6-7eb7-87a84b1f73ad\\n2\\t2024-10-04 11:32:37.478503\\t3918\\t1352\\t0\\tf227218f-0481-e69e-1389-f317161240ce\\n2\\t2024-10-04 08:10:20.966784\\t3918\\t9621\\t0\\t8762179b-ef0d-e241-f8ac-b2cce09d51ea\\n2\\t2024-10-04 08:16:29.994415\\t3918\\t2138\\t0\\ta8c26dac-facd-52bc-4512-973907f6e850\\n2\\t2024-10-04 11:05:23.034796\\t3918\\t5298\\t0\\t96faf96a-fa1c-03e4-4271-46637124b9e8\\n2\\t2024-10-04 03:15:09.824663\\t3918\\t8179\\t0\\t9fc84149-9232-c653-7cab-abc6f6394f72\\n2\\t2024-10-04 06:24:00.226996\\t3918\\t4228\\t0\\t8fb7be46-84ea-68e2-ae2d-2eccc3788fe3\\n2\\t2024-10-04 09:38:53.504375\\t3918\\t3205\\t0\\t81441517-c27a-1b5b-2a2e-bed1acbc3bb6\\n2\\t2024-10-04 03:07:53.835454\\t3918\\t4366\\t0\\t0806663e-370c-064f-a71d-f4a5f5836dc3\\n2\\t2024-10-04 05:07:51.545760\\t3918\\t0694\\t0\\t26a05fa9-1bdf-a4af-d97a-72535eaaee22\\n2\\t2024-10-04 01:16:45.536325\\t3918\\t3359\\t0\\t6a396ab0-2974-70f0-8b46-472601dc4780\\n2\\t2024-10-04 09:51:08.092831\\t3918\\t1887\\t0\\t64862134-f75f-5d2d-79a8-2371c295a8a8\\n2\\t2024-10-04 06:31:51.292950\\t3918\\t0530\\t0\\te0c5ecbf-f928-52a7-c857-a6bf70a20649\\n2\\t2024-10-04 07:09:09.812537\\t3918\\t6672\\t0\\t6183d983-80b8-4711-ca5d-f3c2d0cfc999\\n2\\t2024-10-04 01:01:26.617608\\t3918\\t0730\\t0\\t88e7313a-ad65-b0fe-be49-b4ac0f770883\\n2\\t2024-10-04 08:08:37.821698\\t3918\\t6903\\t0\\t1da564fa-e679-365d-8fa8-6faa715963d9\\n2\\t2024-10-04 06:41:28.603541\\t3918\\t8237\\t0\\t420dd758-6a43-9d06-999b-390008b4f0c3\\n2\\t2024-10-04 05:50:11.315876\\t3918\\t0298\\t0\\teee1ca63-3648-a542-5360-55cf23512bac\\n2\\t2024-10-04 06:41:37.770919\\t3918\\t9730\\t0\\tb00817ed-7e71-e41d-de7f-9d7d06a6ed84\\n2\\t2024-10-04 10:17:50.263172\\t3918\\t2252\\t0\\tde936414-3f0d-c794-9372-f542849e958c\\n2\\t2024-10-04 04:32:58.086741\\t3918\\t9789\\t0\\tb0ba75b0-1ffb-9167-0bee-66cb60a72d99\\n2\\t2024-10-04 12:59:44.315433\\t3918\\t2008\\t0\\t830f0c21-1909-67ce-0e7a-fe78425bd486\\n2\\t2024-10-04 10:24:35.055775\\t3918\\t0128\\t0\\t720d2197-149d-be24-0092-9dbdffc4a7b3\\n2\\t2024-10-04 06:25:58.229265\\t3918\\t8260\\t0\\ted8dce0d-45b8-50e6-7412-4257ac91d41e\\n2\\t2024-10-04 05:35:21.386881\\t3918\\t0413\\t0\\ted396cb4-a882-b3e3-741b-374514b312dc\\n2\\t2024-10-04 04:12:24.189292\\t3918\\t6631\\t0\\t133e3d19-f862-f57f-f4a4-4ccb58ce2228\\n2\\t2024-10-04 03:17:09.974897\\t3918\\t7200\\t0\\t3bb3a6e7-7064-3930-7531-40c5f78cb650\\n2\\t2024-10-04 01:59:49.774549\\t3918\\t2017\\t0\\t84d99fa1-aa98-f3ad-2638-dda9a0fa9cf3\\n2\\t2024-10-04 10:14:51.576080\\t3918\\t0945\\t0\\t92a9b4c7-c507-affc-b590-b5295dd31e7d\\n1\\t2024-10-04 11:25:10.119309\\t3918\\t3622\\t0\\t024d6028-5221-e2f8-deeb-3d3f25be53ca\\n2\\t2024-10-04 04:37:44.825174\\t3918\\t3341\\t0\\t71d6327b-9d25-93ce-33b0-16cf0e7bd4ea\\n2\\t2024-10-04 04:49:02.970696\\t3918\\t5151\\t0\\t876eab0e-d57a-1141-f2de-00025932ec5f\\n2\\t2024-10-04 02:14:21.743613\\t3918\\t7597\\t0\\t40e21b8f-abe9-929e-2d57-5f3c25715c52\\n2\\t2024-10-04 10:45:15.338094\\t3918\\t6595\\t0\\t199aae96-18cd-298c-6ed3-a7471b644f3d\\n2\\t2024-10-04 01:26:53.965951\\t3918\\t6458\\t0\\t1c71436d-3a24-b37d-40da-d0ea9ffba499\\n2\\t2024-10-04 10:41:04.404797\\t3918\\t4698\\t0\\t3a38c427-35c4-3e80-2652-d61b476fcbc5\\n2\\t2024-10-04 10:53:07.250946\\t3918\\t6377\\t0\\te96b7d7e-6263-d5f9-d558-a26a9305f78c\\n2\\t2024-10-04 08:54:48.659401\\t3918\\t0116\\t0\\tbc9e7803-57d4-6d6c-0cd5-fbe81a020373\\n2\\t2024-10-04 06:14:11.756084\\t3918\\t0306\\t0\\t95f99d75-ba82-54c0-305c-47c7ce6eec0a\\n2\\t2024-10-04 06:06:46.874123\\t3918\\t2165\\t0\\t3406439c-20f8-5ca6-a166-7938c031eaa2\\n2\\t2024-10-04 02:21:39.407055\\t3918\\t7819\\t0\\t9c5e0deb-a000-ef1e-2e2e-8b5dbbb19367\\n2\\t2024-10-04 05:58:32.361587\\t3918\\t0376\\t0\\tafccb7ec-570f-ee7d-7325-eca0c759210c\\n2\\t2024-10-04 01:08:28.061523\\t3918\\t1229\\t0\\t98e37794-fcd0-feed-1895-e3912b871eec\\n2\\t2024-10-04 05:15:16.119052\\t3918\\t6962\\t0\\t45fe5f3f-3d71-65c2-23f2-d69ca35edb72\\n2\\t2024-10-04 01:42:46.556647\\t3918\\t7091\\t0\\tecb14535-f565-ef96-3e9a-975bf16aac48\\n2\\t2024-10-04 11:26:43.412155\\t3918\\t1345\\t0\\t294ef52a-c076-8bc8-5cdf-4c60771d23fd\\n2\\t2024-10-04 09:24:16.907360\\t3918\\t5720\\t0\\t5da3f49c-3e12-a242-b50b-f4857b110913\\n2\\t2024-10-04 05:22:02.972160\\t3918\\t3339\\t0\\t3864852c-bc44-1d09-6f5e-8be0dae35988\\n1\\t2024-10-04 01:24:11.889659\\t3918\\t9325\\t0\\t4c79eda2-d62e-c8eb-9147-58b5486b8a62\\n2\\t2024-10-04 08:06:51.009023\\t3918\\t9508\\t0\\t09de1045-525e-6b93-9c21-c833b60a8e8d\\n2\\t2024-10-04 09:06:46.652525\\t3918\\t4688\\t0\\t54c39d82-8c1a-58df-9efa-b6ac24d6511b\\n2\\t2024-10-04 07:07:28.721506\\t3918\\t8779\\t0\\tab24b6af-33cf-b5b8-ab8a-436a3eadd392\\n2\\t2024-10-04 01:59:47.297814\\t3918\\t5663\\t0\\t13154202-8ffb-86ec-8093-8db88c8b5ed6\\n2\\t2024-10-04 02:40:14.284187\\t3918\\t0125\\t0\\t9e7c4702-7679-f3ad-2a6e-6d7537b7f729\\n2\\t2024-10-04 09:59:00.633740\\t3918\\t6598\\t0\\t6476620b-70af-ce82-5f23-b1b7bd487a06\\n1\\t2024-10-04 01:50:34.245113\\t3918\\t7636\\t0\\t17e78410-5790-2824-6ef1-c7e01f75d9bd\\n2\\t2024-10-04 07:07:45.157874\\t3918\\t0460\\t0\\t9513325c-150e-d2b7-5d22-1d15acf40552\\n2\\t2024-10-04 11:05:30.137303\\t3918\\t2118\\t0\\t40dae729-6002-1109-be21-d0d22dbf848f\\n2\\t2024-10-04 10:58:08.953495\\t3918\\t4749\\t0\\t38b161ea-ea06-a07d-1aa3-c4a2b6463d92\\n2\\t2024-10-04 02:00:20.593542\\t3918\\t9222\\t0\\tfd1d9953-27be-a4d9-8c10-0e1b3d06e376\\n2\\t2024-10-04 07:13:31.870069\\t3918\\t3818\\t0\\t0a9cbed2-b7a0-20da-4f76-bb05fa0ee2d6\\n2\\t2024-10-04 12:49:16.487545\\t3918\\t1055\\t0\\t7238083f-fd82-a8bd-b3c2-bdee18b6c12e\\n2\\t2024-10-04 03:44:45.659057\\t3918\\t9948\\t0\\t72ecbb0d-395e-46c1-cd5b-95baabe71119\\n2\\t2024-10-04 08:35:47.984596\\t3918\\t8942\\t0\\t3d802168-5063-524d-bedb-efccbc636580\\n2\\t2024-10-04 03:54:56.005794\\t3918\\t4646\\t0\\t92086510-249c-fcfd-423d-8f1c07553333\\n2\\t2024-10-04 10:01:22.981986\\t3918\\t5129\\t0\\t7de45549-645f-cf69-c92d-6350cfddc6f8\\n2\\t2024-10-04 10:42:29.506859\\t3918\\t5920\\t0\\t290315f9-204c-9689-498b-cf546c31f1d4\\n2\\t2024-10-04 12:38:24.587978\\t3918\\t6870\\t0\\t068b29d9-2fb3-ff4b-4a04-cc8092284dcc\\n2\\t2024-10-04 10:04:58.507116\\t3918\\t8687\\t0\\t61abd028-51d0-f675-260c-e7e15f2a3bb1\\n1\\t2024-10-04 03:47:41.706251\\t3918\\t5182\\t0\\t549a755b-6202-3795-e8e5-76c2d450e19e\\n2\\t2024-10-04 05:51:46.531766\\t3918\\t5823\\t0\\tfc54b7e0-192e-0121-56f1-243bee88c258\\n2\\t2024-10-04 11:39:58.924418\\t3918\\t6315\\t0\\t6cc03fb2-6422-805b-869b-568e58f0257b\\n2\\t2024-10-04 08:06:41.611498\\t3918\\t8816\\t0\\t4af11c18-d6cd-730c-c59c-ae2c68854845\\n2\\t2024-10-04 03:03:31.846009\\t3918\\t0684\\t0\\tc15d7bd2-3a51-4185-23e8-218bf9344cb7\\n1\\t2024-10-04 12:00:02.496790\\t3918\\t2187\\t0\\t85956d83-5213-0505-d104-a5392e0be11e\\n2\\t2024-10-04 10:58:26.790874\\t3918\\t3699\\t0\\t3b5fc81d-1af1-5631-2910-d43834a497a4\\n2\\t2024-10-04 06:58:41.039222\\t3918\\t0703\\t0\\t393d12bc-748a-6559-103c-5bcc4d923211\\n2\\t2024-10-04 01:12:16.034882\\t3918\\t2288\\t0\\ta1030fc0-55f7-e257-4393-876ee17ee637\\n2\\t2024-10-04 07:25:10.958301\\t3918\\t6059\\t0\\tec89b1d7-98e1-e611-6f55-f1435f5cec3b\\n2\\t2024-10-04 02:31:40.614255\\t3918\\t3991\\t0\\t8f892874-9da2-3b05-20d7-c41ca9241866\\n2\\t2024-10-04 06:36:24.493502\\t3918\\t9553\\t0\\t5acfcb89-d7aa-7889-d7bb-ee36adc87c37\\n2\\t2024-10-04 09:07:23.489571\\t3918\\t6446\\t0\\t6f385ae4-d72f-1e3d-f06c-ed2f547bce7c\\n2\\t2024-10-04 01:59:27.713092\\t3918\\t7656\\t0\\t699abf2a-77fe-5b50-4a46-6c5d632942de\\n2\\t2024-10-04 03:38:30.462390\\t3918\\t6335\\t0\\t6a169232-fa44-5ebc-793e-afe65c604ec8\\n2\\t2024-10-04 05:09:15.038828\\t3918\\t3496\\t0\\te961e2c1-93cd-9af5-d6d3-b95a349fc4dc\\n2\\t2024-10-04 05:26:54.843195\\t3918\\t9136\\t0\\t606cb153-5d1d-04f9-c0c5-10b5ac6f01d8\\n2\\t2024-10-04 10:44:33.746868\\t3918\\t6568\\t0\\tf9bd1ab7-a608-ed0c-8ae0-4afb177176cc\\n2\\t2024-10-04 07:50:22.641383\\t3918\\t4827\\t0\\t9cf5919c-7bf5-3592-19ed-b9819edae1eb\\n2\\t2024-10-04 04:57:12.632655\\t3918\\t8726\\t0\\tda7a6ae9-0873-9014-7375-e244ded47812\\n2\\t2024-10-04 07:10:05.933581\\t3918\\t7199\\t0\\tc8f3c647-369b-340b-6dd8-ace8e2f56515\\n2\\t2024-10-04 08:45:36.644448\\t3918\\t1776\\t0\\ta757aeff-07c8-4036-dfcf-91502802e077\\n2\\t2024-10-04 08:22:13.221772\\t3918\\t0282\\t0\\tf52ced86-89ed-04d8-c05c-8a13b7e8c58b\\n1\\t2024-10-04 11:02:34.016916\\t3918\\t4477\\t0\\t3bb7ca9b-4c4b-9017-44b6-d75ac1257c33\\n2\\t2024-10-04 03:18:06.313978\\t3918\\t6954\\t0\\t4f46a842-54ee-17ce-63ce-2fc9b28c23c2\\n2\\t2024-10-04 10:41:53.797725\\t3918\\t2386\\t0\\td051681b-bca7-c8cb-f5bb-790aff9ff548\\n2\\t2024-10-04 02:05:01.350848\\t3918\\t2124\\t0\\t7a7b014c-c77b-1db1-31be-dee4a26d2e8e\\n2\\t2024-10-04 06:49:33.374407\\t3918\\t6643\\t0\\t9004fbc6-13f2-6a5d-357c-f75e5336f995\\n2\\t2024-10-04 04:02:36.194329\\t3918\\t3496\\t0\\t4db2a130-86d1-dcf8-1e7e-042909f643f5\\n2\\t2024-10-04 02:13:41.749534\\t3918\\t2073\\t0\\t5e082dfb-6ea0-8f9d-8029-f2e89b464d41\\n1\\t2024-10-04 09:46:16.187756\\t3918\\t4788\\t0\\tb20d224a-0f71-2763-79ec-1071c86fa201\\n2\\t2024-10-04 06:42:51.724101\\t3918\\t9934\\t0\\t1875dd57-1b3e-9fcf-01f8-bebc7221aa7e\\n2\\t2024-10-04 05:27:35.644753\\t3918\\t5714\\t0\\t2ef60203-e19f-f984-b77a-413fe22954f3\\n2\\t2024-10-04 09:10:05.339641\\t3918\\t1915\\t0\\t088bbb4d-ee05-c73b-c84a-c3c302216219\\n2\\t2024-10-04 09:59:15.498174\\t3918\\t8916\\t0\\te37c3be4-8e0d-cca3-2692-e41ecf3a963e\\n2\\t2024-10-04 05:32:11.889702\\t3918\\t8429\\t0\\t2bb83501-faf7-4476-d205-6ae210dde2d7\\n2\\t2024-10-04 08:34:45.000787\\t3918\\t7377\\t0\\t6082716b-96ef-2c14-c673-fa464a5162ad\\n2\\t2024-10-04 01:25:53.458964\\t3918\\t9587\\t0\\ta0bf9ecc-cd06-458d-5749-b3894016a404\\n2\\t2024-10-04 12:34:03.243698\\t3918\\t0743\\t0\\t7ba67564-6538-b651-fe15-4fba7a613195\\n2\\t2024-10-04 09:25:44.577103\\t3918\\t7941\\t0\\tbaf63661-8abd-f406-6914-0dd328037ffc\\n2\\t2024-10-04 09:51:47.053039\\t3918\\t1260\\t0\\tc8ece953-583f-774d-3248-7e0fce9321c7\\n1\\t2024-10-04 10:10:36.005456\\t3918\\t7748\\t0\\td60ef708-f956-c41e-f29c-c3dfbc382402\\n2\\t2024-10-04 10:56:12.527308\\t3918\\t0597\\t0\\tad9d54ae-ca1c-c031-a2dc-863b5bae3615\\n2\\t2024-10-04 11:39:19.878136\\t3918\\t3982\\t0\\td7803d1f-f0f8-1cd6-71e2-2da6026769e3\\n2\\t2024-10-04 06:36:47.345997\\t3918\\t5782\\t0\\t885dbe4e-52af-898e-e7a4-21f3ea0d329e\\n2\\t2024-10-04 11:10:07.135371\\t3918\\t6074\\t0\\t0e656e43-9f00-456c-a8f0-e0570802cba2\\n2\\t2024-10-04 01:49:05.457920\\t3918\\t9304\\t0\\t342ca0de-59d3-9c34-2e9f-1a0b6fa3f35b\\n1\\t2024-10-04 07:23:14.281440\\t3918\\t7676\\t0\\tb085ea43-f027-a5d0-dc33-d518e5140249\\n2\\t2024-10-04 10:20:52.318315\\t3918\\t1007\\t0\\td9fd77d8-98c5-eb14-0a4b-6fe16a41c277\\n2\\t2024-10-04 06:40:09.720071\\t3918\\t6492\\t0\\t1cdb09dd-89b2-46f2-67d9-472ffc8ee987\\n2\\t2024-10-04 03:18:57.044811\\t3918\\t0014\\t0\\tb51c6428-96dd-0ad9-c2e0-cff6237f9412\\n2\\t2024-10-04 07:41:23.556554\\t3918\\t7621\\t0\\t36d98c51-64c5-1649-ddb6-77578f5c3a00\\n2\\t2024-10-04 08:25:48.412070\\t3918\\t5334\\t0\\t71a5a70c-16d9-178b-145d-f2aa0f1f0773\\n2\\t2024-10-04 11:59:56.627868\\t3918\\t9106\\t0\\tf925c235-8d6b-f7d1-d5ac-1e84600908f7\\n2\\t2024-10-04 12:43:22.546546\\t3918\\t6666\\t0\\t2f8c25d6-daff-7453-8a36-d824074da0e1\\n2\\t2024-10-04 03:07:38.515386\\t3918\\t0810\\t0\\t4761be84-a286-9c5f-521d-e4e98cbf4a2c\\n2\\t2024-10-04 12:24:40.889374\\t3918\\t0042\\t0\\tceba32ac-7ffb-e33b-d4ca-d6c12c366b0c\\n2\\t2024-10-04 04:02:57.206379\\t3918\\t5018\\t0\\td4d68f33-d589-3990-1f94-a97e84594fff\\n2\\t2024-10-04 01:50:47.216856\\t3918\\t6185\\t0\\tf00a33f3-f75b-8c3a-4f9e-8fbbf0795155\\n2\\t2024-10-04 10:39:57.790215\\t3918\\t2330\\t0\\t6763652f-4743-7d0a-23ae-595b75a690a0\\n2\\t2024-10-04 04:31:58.509442\\t3918\\t6157\\t0\\t3a3ebb89-df67-91b2-7aef-f9279b7dfb1f\\n2\\t2024-10-04 11:57:43.868280\\t3918\\t7168\\t0\\tff6414b1-2800-527c-9ffd-f1b1137897c7\\n2\\t2024-10-04 06:28:15.486723\\t3918\\t4504\\t0\\t55e42f14-09a0-a078-dbb1-5e3ad88a92e1\\n2\\t2024-10-04 09:03:17.574362\\t3918\\t6015\\t0\\tff9a394f-4c76-7e0e-8513-7957bbd11788\\n2\\t2024-10-04 08:09:53.872300\\t3918\\t9751\\t0\\t925ffdcf-93c3-6b5e-fe1e-bab299dc471b\\n2\\t2024-10-04 06:47:05.227830\\t3918\\t0416\\t0\\t8c43683f-4296-c78c-a037-2d385b497400\\n1\\t2024-10-04 11:48:45.207815\\t3918\\t1625\\t0\\t8af04559-84aa-0821-bf6b-24542f2ffa29\\n2\\t2024-10-04 04:15:02.511042\\t3918\\t8131\\t0\\t08cda1e5-0f17-65bf-6ea1-1163552022fa\\n1\\t2024-10-04 05:26:44.007697\\t3918\\t5491\\t0\\t12eb067f-9ba0-eff4-c28e-ba0217a6173f\\n2\\t2024-10-04 04:27:24.233433\\t3918\\t0210\\t0\\ta1d5b939-664e-f588-ed83-9f180a6c14d8\\n2\\t2024-10-04 05:58:37.788461\\t3918\\t9314\\t0\\t8bf2e2e4-c8b8-0929-6ccc-24075aaf101a\\n2\\t2024-10-04 02:31:13.980991\\t3918\\t0016\\t0\\tbbcf3ce6-a16e-1897-5b33-d8cd714fdcef\\n2\\t2024-10-04 05:58:49.890976\\t3918\\t1388\\t0\\t78d4e871-af1f-5292-257a-94480a3efd9c\\n2\\t2024-10-04 11:22:36.768913\\t3918\\t6404\\t0\\t92ab30ef-93f0-7021-8004-b4878fc41800\\n2\\t2024-10-04 09:28:26.298832\\t3918\\t5047\\t0\\t86cd78ee-f766-cfd7-6cd6-ae2f8221c366\\n2\\t2024-10-04 04:03:57.392271\\t3918\\t4715\\t0\\ta9f47a01-86e5-c6a3-57a5-47aa82307488\\n2\\t2024-10-04 09:21:43.298051\\t3918\\t2949\\t0\\td7d2d040-0058-4571-3427-f08cdf83bc5b\\n2\\t2024-10-04 06:53:13.626467\\t3918\\t0803\\t0\\tdd2b7b04-c773-8c9b-823a-f2acde27702a\\n2\\t2024-10-04 05:33:16.559061\\t3918\\t8941\\t0\\t716c9936-4037-af02-db96-d420a2349e70\\n2\\t2024-10-04 10:25:48.101206\\t3918\\t5470\\t0\\tcc843db5-473c-0b98-9d5a-7f4564e50767\\n2\\t2024-10-04 08:07:01.854710\\t3918\\t2960\\t0\\ted064613-385f-6224-904d-3197431a5850\\n2\\t2024-10-04 08:58:17.542440\\t3918\\t9707\\t0\\t1a76dafd-2d9f-2ef7-5d91-39d61458b527\\n2\\t2024-10-04 02:06:45.219391\\t3918\\t7473\\t0\\tf5c71783-4c8b-d4e9-bc1c-353116111e40\\n2\\t2024-10-04 10:01:26.854739\\t3918\\t5741\\t0\\tde396e83-b361-3a7c-d8a5-cc569b9bf383\\n2\\t2024-10-04 10:54:57.871954\\t3918\\t5891\\t0\\t0fc45395-982a-276d-0cf4-60ac74f735a9\\n2\\t2024-10-04 03:07:18.715697\\t3918\\t3844\\t0\\t1fa270a7-58ce-91e4-88bf-63558113583f\\n2\\t2024-10-04 10:44:59.281858\\t3918\\t8612\\t0\\t699d550c-3b4f-3475-a4d7-91e509931db8\\n2\\t2024-10-04 11:01:32.837268\\t3918\\t6403\\t0\\t55ca6825-46ab-a832-bbf3-a48d6fae0834\\n2\\t2024-10-04 08:39:00.868284\\t3918\\t2309\\t0\\t65ead614-2f5f-a7a3-60da-56c406f7e084\\n2\\t2024-10-04 03:20:54.574431\\t3918\\t0392\\t0\\ta11859af-69c3-386f-5758-4e65c41d01bd\\n2\\t2024-10-04 02:20:44.340022\\t3918\\t3971\\t0\\ta62e758e-6252-5cc1-5104-c644fffa31ab\\n2\\t2024-10-04 06:49:15.515128\\t3918\\t2909\\t0\\t9dec9915-104f-7810-9097-09dff7745751\\n2\\t2024-10-04 02:27:52.578953\\t3918\\t0597\\t0\\t3da56f57-fc25-9ce7-5ca7-faaf001e3a4a\\n2\\t2024-10-04 06:45:26.299762\\t3918\\t4039\\t0\\t10078865-b566-ddea-f2e5-98ed18a506f0\\n2\\t2024-10-04 06:04:47.679630\\t3918\\t3807\\t0\\t85ef72a7-f984-106f-cf27-be3f72be1bf4\\n2\\t2024-10-04 08:59:25.442821\\t3918\\t7983\\t0\\t0d5f66e4-9fb0-4b69-ca50-68448fe6a62d\\n2\\t2024-10-04 09:16:20.601738\\t3918\\t6319\\t0\\t56086ad6-e19c-b90a-6344-68aa1b2151a7\\n2\\t2024-10-04 12:11:26.140544\\t3918\\t7236\\t0\\t9ba8301b-d035-b03a-33ea-60beca44fd27\\n2\\t2024-10-04 09:12:05.088014\\t3918\\t8877\\t0\\t89b71b09-243e-9c38-397c-d8c8993f361a\\n2\\t2024-10-04 10:26:08.814672\\t3918\\t1765\\t0\\t9517c1d9-8e80-e508-f2bc-ccdfcad2fd0e\\n2\\t2024-10-04 06:40:54.671814\\t3918\\t9808\\t0\\t23498d8c-f4dd-bc82-074f-23d9ddfc2d79\\n2\\t2024-10-04 08:14:08.636057\\t3918\\t9184\\t0\\t6a7c7e3d-50ff-07bf-1d2d-b635b41f1175\\n2\\t2024-10-04 08:55:18.363901\\t3918\\t3125\\t0\\t3265e4d0-1ae2-31ed-a35a-bc2d454fc70f\\n2\\t2024-10-04 12:21:27.615228\\t3918\\t4987\\t0\\t74ee0e87-11fb-cb2a-4829-2f0504d504d0\\n2\\t2024-10-04 10:37:54.966011\\t3918\\t5444\\t0\\t53b884ac-1d26-4cf7-ca43-d617fa78dde9\\n2\\t2024-10-04 09:37:01.890033\\t3918\\t2778\\t0\\t909b800c-132c-9448-a27b-562da8a5aa17\\n2\\t2024-10-04 02:12:58.607863\\t3918\\t2497\\t0\\tf3423144-2e21-6d72-2522-1491f1f31987\\n2\\t2024-10-04 03:21:58.212729\\t3918\\t4762\\t0\\tc4e9bd0a-e734-2a17-fc0b-096faa8fd84a\\n2\\t2024-10-04 10:25:13.352344\\t3918\\t9440\\t0\\t5404bc8d-1600-686c-8599-84a3a23ef543\\n2\\t2024-10-04 02:37:31.212983\\t3918\\t3490\\t0\\t8a88fcb3-6252-d81b-2acf-6e9b82db2b99\\n2\\t2024-10-04 01:01:15.146833\\t3918\\t7259\\t0\\t4cce4ba1-03fa-9727-41a5-aeea1990cbe1\\n2\\t2024-10-04 09:57:25.573333\\t3918\\t5027\\t0\\t9dcaa961-5c0f-622f-88e0-6c5050ead3fc\\n1\\t2024-10-04 03:07:45.165900\\t3918\\t8388\\t0\\t61935bdd-e46c-722c-af0e-ebeed878139c\\n2\\t2024-10-04 10:54:49.480810\\t3918\\t2076\\t0\\tb9542633-ace0-6b58-a28e-b92b6bb34ecd\\n1\\t2024-10-04 02:35:58.953325\\t3918\\t0317\\t0\\te72fc3a1-947c-f992-9878-042bba3001d3\\n1\\t2024-10-04 04:10:14.917249\\t3918\\t1072\\t0\\t7222c6fb-70f5-537b-b841-67217e466c21\\n2\\t2024-10-04 05:14:56.444465\\t3918\\t1730\\t0\\tb5f8631b-53e4-3a89-4595-82d7e3bd0b3f\\n2\\t2024-10-04 12:40:31.822101\\t3918\\t3034\\t0\\ta29c61f9-359c-96e8-33a2-317523171188\\n2\\t2024-10-04 11:25:26.996816\\t3918\\t4454\\t0\\t6882a00c-4aa7-2d8b-02a3-46cf3dbde6d8\\n2\\t2024-10-04 01:05:15.176604\\t3918\\t3300\\t0\\tea969b5d-3409-8cc1-9f94-8bf23f0ae7e0\\n2\\t2024-10-04 05:00:37.327022\\t3918\\t5894\\t0\\t8417c452-eb29-2912-8845-6d912fe0a86c\\n2\\t2024-10-04 04:17:57.745683\\t3918\\t0400\\t0\\t6a2f33f3-fb4f-fb81-5098-d7a785670893\\n2\\t2024-10-04 08:10:39.276368\\t3918\\t3078\\t0\\t859b9c2e-c98b-8347-cedd-8b3d575e8ed1\\n2\\t2024-10-04 01:00:28.464555\\t3918\\t3661\\t0\\t1961bb84-e959-6afc-75e8-bf44b319aa5c\\n2\\t2024-10-04 01:27:09.215102\\t3918\\t6381\\t0\\t5dbb520e-b639-c0be-a279-ebc850a72cd4\\n2\\t2024-10-04 04:52:48.359146\\t3918\\t3012\\t0\\t0667cd4e-a688-1f0c-82b9-e96228a93104\\n1\\t2024-10-04 11:56:50.350167\\t3918\\t1083\\t0\\t530b04c2-371c-fd56-cd5c-849e8c89c636\\n2\\t2024-10-04 12:29:36.978184\\t3918\\t8197\\t0\\td989df7d-bbd9-ae55-85d5-4e3fba2a2afe\\n2\\t2024-10-04 11:05:11.101230\\t3918\\t6331\\t0\\t8ce38f40-ec82-80af-cd3c-8a9f699dd226\\n1\\t2024-10-04 03:03:19.004864\\t3918\\t4568\\t0\\tf595b402-e64a-5faf-25be-2e61512d2694\\n2\\t2024-10-04 08:17:42.295215\\t3918\\t3303\\t0\\tc84aa37b-defc-b823-1a28-db7b4d84cd59\\n2\\t2024-10-04 07:32:27.062368\\t3918\\t4774\\t0\\t22f4d90a-fcb7-4a2f-2ea7-32deb6eb34a6\\n2\\t2024-10-04 01:02:53.041675\\t3918\\t0093\\t0\\t3c7508a2-ab2e-0082-e4af-9ffa320e8731\\n2\\t2024-10-04 05:41:29.120439\\t3918\\t3037\\t0\\t9f47f8cf-18ff-9da6-ec9e-222a83daeb91\\n2\\t2024-10-04 07:33:36.790116\\t3918\\t7167\\t0\\tba1dbf1c-d526-3e14-839e-976be6f8f672\\n2\\t2024-10-04 12:15:45.872762\\t3918\\t1969\\t0\\tae63e2c8-395e-ed2f-1504-87d3568bd3c1\\n2\\t2024-10-04 10:06:18.086770\\t3918\\t6888\\t0\\tffbd599d-7583-be8b-cb66-a5399d806e69\\n2\\t2024-10-04 11:54:00.012000\\t3918\\t8890\\t0\\t23afb980-0503-e415-2e8d-4655ac8486b5\\n2\\t2024-10-04 12:29:03.666887\\t3918\\t4021\\t0\\tc78e395a-5336-817c-8fa2-1eb03d522ef0\\n2\\t2024-10-04 11:56:18.224786\\t3918\\t8532\\t0\\t041ac25f-5e56-f118-84c9-84e4e455b8c1\\n2\\t2024-10-04 04:13:51.158882\\t3918\\t6288\\t0\\tb0ec63a1-8300-f89e-e096-d7ebcdf06594\\n2\\t2024-10-04 11:02:08.333365\\t3918\\t6749\\t0\\t15c082a3-e5e4-839a-a19c-612c23b7d1c9\\n2\\t2024-10-04 03:02:42.018012\\t3918\\t5610\\t0\\t01839893-7fe1-3d03-ff3d-0d8a4d70bc29\\n2\\t2024-10-04 12:51:59.016834\\t3918\\t7139\\t0\\t87b16d31-cfef-ff24-ae6a-ee6704a3ae4f\\n2\\t2024-10-04 08:19:19.736473\\t3918\\t1003\\t0\\t9ec571c8-77c1-1b30-fa8e-41ffecd418bc\\n2\\t2024-10-04 05:32:27.029388\\t3918\\t5756\\t0\\td0a6c0f8-62da-92a8-54ea-ce205b5655fd\\n2\\t2024-10-04 07:46:46.044300\\t3918\\t4192\\t0\\te3645f66-ede2-0b75-c8fd-858a25c2cac2\\n1\\t2024-10-04 10:55:23.204188\\t3918\\t9709\\t0\\ted883f5f-f6b3-2b28-ea64-54d09988bc6f\\n2\\t2024-10-04 07:05:22.718305\\t3918\\t7986\\t0\\tc370a880-f255-7e07-20e1-1a04f94057d4\\n2\\t2024-10-04 10:37:19.143046\\t3918\\t4725\\t0\\ta8081d2b-0731-a20d-2c65-b7d91aedb4fb\\n2\\t2024-10-04 03:43:01.176704\\t3918\\t2448\\t0\\t7df6d431-9f8a-1a7d-e237-f6a477f6c831\\n2\\t2024-10-04 01:14:16.740079\\t3918\\t5749\\t0\\tcace645a-69e9-a9c1-0c26-532a46b35ab5\\n2\\t2024-10-04 05:58:42.858800\\t3918\\t6371\\t0\\tca6f094d-31a5-b68e-4fff-4945ebe68e90\\n2\\t2024-10-04 12:59:43.906398\\t3918\\t0783\\t0\\t163d6db4-65fe-5b27-a924-43a043d704a7\\n2\\t2024-10-04 07:58:24.461727\\t3918\\t1856\\t0\\te55a0e2b-33af-9ee9-d78f-5060a2526247\\n2\\t2024-10-04 08:24:13.028025\\t3918\\t6526\\t0\\t245ca65a-f711-d04c-1c85-7f7b1b735cf1\\n2\\t2024-10-04 03:32:39.863122\\t3918\\t2354\\t0\\t6c091aed-aea9-84b4-c495-f661349e495a\\n2\\t2024-10-04 04:45:53.241380\\t3918\\t5857\\t0\\t71293c7b-a3c9-105f-d1f9-9538469e45c8\\n2\\t2024-10-04 04:54:22.666100\\t3918\\t3337\\t0\\t2e4fc87f-e8f7-1574-93a9-9bd803fdc44b\\n2\\t2024-10-04 12:13:39.240640\\t3918\\t2999\\t0\\te012c848-1bfe-ea23-5a2c-97f2a6be944f\\n2\\t2024-10-04 09:54:16.486035\\t3918\\t0885\\t0\\t1bf91c31-582e-5d5a-fe8b-f9168792a440\\n2\\t2024-10-04 05:45:20.167011\\t3918\\t2100\\t0\\tb348780c-8ad8-b58a-5f57-33780b506dc5\\n2\\t2024-10-04 11:50:33.055368\\t3918\\t9194\\t0\\tc87ab6c3-417c-2a6b-676d-5dfd340713ed\\n2\\t2024-10-04 02:14:33.434846\\t3918\\t5344\\t0\\t77a055b9-e6e0-3958-52b9-cc952d8960d9\\n2\\t2024-10-04 02:36:42.543410\\t3918\\t6682\\t0\\t3c610cdb-9c56-6c80-9c4b-4236e12c10ab\\n2\\t2024-10-04 06:41:37.312727\\t3918\\t7507\\t0\\t29aa5e0f-e86d-6045-ba20-da77a7939be9\\n2\\t2024-10-04 03:31:17.005414\\t3918\\t3268\\t0\\t83319098-b694-45c1-deda-06bea76eaef6\\n2\\t2024-10-04 12:12:30.614593\\t3918\\t0918\\t0\\t825fea83-24ad-48e6-d64f-d43abf7918e4\\n2\\t2024-10-04 09:18:42.531496\\t3918\\t3727\\t0\\t28c0b420-96e7-bb95-0f46-fad0b780fece\\n2\\t2024-10-04 01:41:45.032438\\t3918\\t0332\\t0\\tc6cade2a-1624-16e9-de88-f7c03e58cda2\\n1\\t2024-10-04 06:11:35.019972\\t3918\\t8272\\t0\\t1b06f4ef-5117-cd66-f2a7-1b8c8130cbd9\\n2\\t2024-10-04 05:57:05.416578\\t3918\\t6689\\t0\\t7db5573a-3c17-215b-2608-bd0c961ac195\\n2\\t2024-10-04 08:32:59.293066\\t3918\\t1895\\t0\\t5e8d0750-7671-2145-dce5-c9fd19002d12\\n2\\t2024-10-04 11:17:52.161899\\t3918\\t8614\\t0\\td7fce79a-777f-6543-0f53-d806feed58b9\\n2\\t2024-10-04 12:53:10.889967\\t3918\\t4375\\t0\\t97579832-563b-9a27-d4d4-77592634d556\\n2\\t2024-10-04 07:56:00.768561\\t3918\\t3780\\t0\\t5d7b4b21-22af-2255-2238-755a02b77106\\n1\\t2024-10-04 05:49:59.671970\\t3918\\t6904\\t0\\tf62fe146-f681-6a2e-b635-ec4cfd543035\\n2\\t2024-10-04 01:55:53.892802\\t3918\\t7303\\t0\\t718bab10-2c86-9151-15ab-a053e2736854\\n2\\t2024-10-04 05:47:19.466401\\t3918\\t5945\\t0\\t63731d5f-a5d1-b91e-45db-df2b611dbcb3\\n2\\t2024-10-04 10:59:05.335471\\t3918\\t3262\\t0\\t7073c984-2a99-9725-7de7-587f17c87da0\\n2\\t2024-10-04 04:46:43.082828\\t3918\\t3141\\t0\\t3d7cb98e-4283-512b-81a5-c603af5fc73e\\n2\\t2024-10-04 11:38:12.251560\\t3918\\t1299\\t0\\t272a8978-5854-e2bc-6089-090aea304ecd\\n2\\t2024-10-04 10:11:23.708685\\t3918\\t1267\\t0\\t6658baef-f8d9-1805-049d-07ecae56e03c\\n2\\t2024-10-04 11:41:06.797591\\t3918\\t6927\\t0\\t1d8b9d96-3c24-92e8-5d42-16fdd67a0ac7\\n2\\t2024-10-04 04:49:56.367203\\t3918\\t8683\\t0\\tb6152db9-3db8-b219-15b2-29f293b17ea0\\n2\\t2024-10-04 05:42:20.838515\\t3918\\t4712\\t0\\tc1f4af45-8e9f-7c4a-a960-512f4addd66a\\n2\\t2024-10-04 06:54:19.126400\\t3918\\t1216\\t0\\t31b9960f-8d41-a0c9-ca15-e7e0f3c0486b\\n2\\t2024-10-04 03:17:24.745278\\t3918\\t4083\\t0\\t5b1e02cf-270f-bc08-ef7c-28d9e650b0e1\\n2\\t2024-10-04 11:39:39.133565\\t3918\\t6159\\t0\\t78c60ee2-8521-d65f-ad90-fde258539ded\\n1\\t2024-10-04 03:31:12.161699\\t3918\\t8927\\t0\\t43c53e7e-20bc-2184-f10e-81f1e1e96231\\n2\\t2024-10-04 08:09:13.231889\\t3918\\t4947\\t0\\t5aec145f-2f6f-3759-193a-ab20d11740c3\\n2\\t2024-10-04 06:36:49.190440\\t3918\\t9456\\t0\\t058b4108-5242-081f-0cb8-42c34b49640b\\n2\\t2024-10-04 04:36:39.376477\\t3918\\t5274\\t0\\td7f9c5d8-15d3-08dd-5982-d94b3cd0cbdc\\n2\\t2024-10-04 08:07:23.291163\\t3918\\t3907\\t0\\ta611f540-2015-4417-3d05-845897a30f26\\n2\\t2024-10-04 12:21:01.140036\\t3918\\t7953\\t0\\t47776a12-afc6-7d16-d56b-b3ff3c4c2923\\n2\\t2024-10-04 07:30:04.480105\\t3918\\t7279\\t0\\t9918aeb7-3a2e-629c-329c-88396ff3063a\\n2\\t2024-10-04 12:19:12.511738\\t3918\\t1837\\t0\\t27aab0c2-2a11-4618-b7fd-bed615adefc7\\n2\\t2024-10-04 08:37:07.747585\\t3918\\t4191\\t0\\t05dff29c-d250-8d21-cdbe-de6044cf5a54\\n1\\t2024-10-04 08:47:04.932480\\t3918\\t4592\\t0\\t30e59477-0c88-0206-3c31-e1504667c81c\\n1\\t2024-10-04 07:04:41.063898\\t3918\\t3278\\t0\\t72a1efe7-7f62-a5cf-4105-746289e936f4\\n2\\t2024-10-04 08:15:12.278660\\t3918\\t3302\\t0\\t7438c6c5-a8cf-963c-6815-687b31e5d01a\\n2\\t2024-10-04 10:49:55.297095\\t3918\\t0680\\t0\\t294d05ec-4f11-c3ee-f072-f016e5d9a9e5\\n1\\t2024-10-04 05:23:37.046535\\t3918\\t3351\\t0\\t2b21ab70-f47d-6578-72fe-36eba9a83832\\n2\\t2024-10-04 08:32:37.609004\\t3918\\t2780\\t0\\teddb23d3-4cb5-5c45-3de9-92dd7fa0b7bc\\n2\\t2024-10-04 07:24:25.380664\\t3918\\t1676\\t0\\tf75c6f36-05fb-9bfe-80cf-e94f07602c03\\n1\\t2024-10-04 01:09:55.003337\\t3918\\t3570\\t0\\t2c42a37d-cb45-94ce-6f0d-0c69c908e55a\\n2\\t2024-10-04 04:55:51.579120\\t3918\\t2967\\t0\\t89d9a1f8-ecd0-b250-f7cc-b1e9abdce507\\n2\\t2024-10-04 03:47:50.596929\\t3918\\t8895\\t0\\tfe4bfcdb-936d-00fb-4805-52d82e3f1cce\\n2\\t2024-10-04 03:16:42.880409\\t3918\\t2452\\t0\\td2b36f92-cf49-6351-29d5-a99320b44300'}\n",
      "38532\n"
     ]
    }
   ],
   "source": [
    "f = 'prose/Extraction.Text/Log.000003/root.DateStruct.spec.json'\n",
    "read_in_data(f)"
   ]
  },
  {
   "cell_type": "code",
   "execution_count": null,
   "metadata": {},
   "outputs": [],
   "source": []
  },
  {
   "cell_type": "markdown",
   "metadata": {},
   "source": [
    "### Transformation Text"
   ]
  },
  {
   "cell_type": "code",
   "execution_count": 1,
   "metadata": {},
   "outputs": [],
   "source": [
    "def read_in_data(file_name,sub_folder):\n",
    "    test_data = None\n",
    "    train = defaultdict()\n",
    "    input_list = []\n",
    "    output_list = []\n",
    "    with open(file_name, 'rb') as f:\n",
    "        test_data = json.load(f)\n",
    "    \n",
    "    \n",
    "    for d in test_data['Examples']:\n",
    "        if d['Input'][0]:\n",
    "            input_list.append([d['Input'][0].replace(\",\", \"-\")])\n",
    "        else:\n",
    "            input_list.append([d['Input'][0]])\n",
    "        output_list.append([d['Output']])\n",
    "    \n",
    "    percent_5 = max(int(len(input_list) * 0.05),5)\n",
    "    train[\"InputTable\"] = input_list[0:percent_5]\n",
    "    train[\"NumSamples\"] = len(train['InputTable'])\n",
    "    train[\"TestName\"] = sub_folder\n",
    "    train[\"TestingTable\"] = input_list\n",
    "    train[\"OutputTable\"] = output_list[0:percent_5]\n",
    "    train[\"TestAnswer\"] = output_list\n",
    "    \n",
    "    return train"
   ]
  },
  {
   "cell_type": "code",
   "execution_count": 2,
   "metadata": {},
   "outputs": [
    {
     "ename": "NameError",
     "evalue": "name 'os' is not defined",
     "output_type": "error",
     "traceback": [
      "\u001b[0;31m---------------------------------------------------------------------------\u001b[0m",
      "\u001b[0;31mNameError\u001b[0m                                 Traceback (most recent call last)",
      "Cell \u001b[0;32mIn[2], line 3\u001b[0m\n\u001b[1;32m      1\u001b[0m folder_path \u001b[38;5;241m=\u001b[39m \u001b[38;5;124m\"\u001b[39m\u001b[38;5;124mprose/Transformation.Text\u001b[39m\u001b[38;5;124m\"\u001b[39m\n\u001b[0;32m----> 3\u001b[0m \u001b[38;5;28;01mfor\u001b[39;00m sub_folder \u001b[38;5;129;01min\u001b[39;00m \u001b[43mos\u001b[49m\u001b[38;5;241m.\u001b[39mlistdir(folder_path):\n\u001b[1;32m      4\u001b[0m     \u001b[38;5;66;03m# Iterate through all files in the folder\u001b[39;00m\n\u001b[1;32m      5\u001b[0m     \u001b[38;5;28;01mif\u001b[39;00m sub_folder \u001b[38;5;241m!=\u001b[39m \u001b[38;5;124m'\u001b[39m\u001b[38;5;124m.DS_Store\u001b[39m\u001b[38;5;124m'\u001b[39m:\n\u001b[1;32m      7\u001b[0m         sub_folder_path \u001b[38;5;241m=\u001b[39m os\u001b[38;5;241m.\u001b[39mpath\u001b[38;5;241m.\u001b[39mjoin(folder_path, sub_folder)\n",
      "\u001b[0;31mNameError\u001b[0m: name 'os' is not defined"
     ]
    }
   ],
   "source": [
    "\n",
    "folder_path = \"prose/Transformation.Text\"\n",
    "\n",
    "for sub_folder in os.listdir(folder_path):\n",
    "    # Iterate through all files in the folder\n",
    "    if sub_folder != '.DS_Store':\n",
    "\n",
    "        sub_folder_path = os.path.join(folder_path, sub_folder)\n",
    "        for filename in os.listdir(sub_folder_path):\n",
    "            # Join the folder path with the filename to get the full file path\n",
    "            if filename not in ['Split','meta.json']:\n",
    "                file_path = os.path.join(sub_folder_path, filename)\n",
    "                output_path = \"foofah/Transformation.Text/\" + sub_folder + \".txt\"\n",
    "                print(sub_folder)\n",
    "                split_data = read_in_data(file_path,sub_folder)\n",
    "                \n",
    "\n",
    "                # write the output file\n",
    "                with open(output_path, \"w\", encoding='utf-8') as file: \n",
    "                    json.dump(split_data, file, ensure_ascii=False)\n",
    "\n"
   ]
  },
  {
   "cell_type": "code",
   "execution_count": 60,
   "metadata": {},
   "outputs": [],
   "source": [
    "# .encode(\"utf-8\")\n",
    "file_name = \"prose/Transformation.Text/Address.000002/spec.json\"\n",
    "train = read_in_data(file_name)"
   ]
  },
  {
   "cell_type": "code",
   "execution_count": 61,
   "metadata": {},
   "outputs": [
    {
     "name": "stdout",
     "output_type": "stream",
     "text": [
      "<class 'str'>\n"
     ]
    }
   ],
   "source": [
    "print(type(train['InputTable'][0][0]))"
   ]
  },
  {
   "cell_type": "code",
   "execution_count": 62,
   "metadata": {},
   "outputs": [
    {
     "name": "stdout",
     "output_type": "stream",
     "text": [
      "Aysu Fatma Ahmed 492 24th Place NW-Edison-AK-(896) 388-9065-000-93-6876-38891\n"
     ]
    }
   ],
   "source": [
    "print(train['InputTable'][0][0])"
   ]
  },
  {
   "cell_type": "code",
   "execution_count": 63,
   "metadata": {},
   "outputs": [
    {
     "name": "stdout",
     "output_type": "stream",
     "text": [
      "<class 'str'>\n"
     ]
    }
   ],
   "source": [
    "file_name = \"foofah/foofah/exp0_2_1.txt\"\n",
    "with open(file_name, 'rb') as f:\n",
    "        test_data = json.load(f)\n",
    "print(type(test_data['InputTable'][0][0]))"
   ]
  },
  {
   "cell_type": "code",
   "execution_count": 69,
   "metadata": {},
   "outputs": [
    {
     "name": "stdout",
     "output_type": "stream",
     "text": [
      "<class 'str'>\n"
     ]
    }
   ],
   "source": [
    "file_name = \"foofah/Transformation.Text/Address.000002.txt\"\n",
    "with open(file_name, 'rb') as f:\n",
    "        trans = json.load(f)\n",
    "print(type(trans['InputTable'][0][0]))"
   ]
  },
  {
   "cell_type": "code",
   "execution_count": 42,
   "metadata": {},
   "outputs": [
    {
     "name": "stdout",
     "output_type": "stream",
     "text": [
      "[<map object at 0x109e48400>, <map object at 0x109e49b70>]\n"
     ]
    }
   ],
   "source": [
    "raw_data = [map(str, x) for x in test_data['InputTable']]\n",
    "print(raw_data)"
   ]
  },
  {
   "cell_type": "code",
   "execution_count": 45,
   "metadata": {},
   "outputs": [
    {
     "name": "stdout",
     "output_type": "stream",
     "text": [
      "[<map object at 0x109e49ff0>, <map object at 0x109e49d80>, <map object at 0x109e4b910>, <map object at 0x109e49d50>, <map object at 0x109e49450>]\n"
     ]
    }
   ],
   "source": [
    "raw_data = [map(str, x) for x in train['InputTable']]\n",
    "print(raw_data)"
   ]
  },
  {
   "cell_type": "code",
   "execution_count": 48,
   "metadata": {},
   "outputs": [
    {
     "name": "stdout",
     "output_type": "stream",
     "text": [
      "[<map object at 0x109e4bdf0>, <map object at 0x109e49cf0>, <map object at 0x109e494e0>, <map object at 0x109e4b700>, <map object at 0x109e49720>]\n"
     ]
    }
   ],
   "source": [
    "raw_data = [map(str, x) for x in trans['InputTable']]\n",
    "print(raw_data)"
   ]
  },
  {
   "cell_type": "code",
   "execution_count": 19,
   "metadata": {},
   "outputs": [],
   "source": [
    "# split data into train and test\n",
    "def split_data(file_name):\n",
    "    test_data = None\n",
    "    train = defaultdict()\n",
    "    test = defaultdict()\n",
    "    with open(file_name, 'rb') as f:\n",
    "        test_data = json.load(f)\n",
    "    train['InputTable'] = test_data['Input'][:5]\n",
    "    train['OutputTable'] = test_data['Output'][:5]\n",
    "    test['TestingTable'] = test_data['Input'][:5]\n",
    "    test['TestAnswer'] = test_data['Output'][:5]\n",
    "\n",
    "    \n",
    "    with open(file_name[:-5] + '_train.json', \"w\") as file:   \n",
    "            json.dump(train, file)\n",
    "    with open(file_name[:-5] + '_test.json', \"w\") as file:   \n",
    "            json.dump(test, file)"
   ]
  },
  {
   "cell_type": "code",
   "execution_count": 20,
   "metadata": {},
   "outputs": [],
   "source": [
    "split_data('executive/executive_exp05.json')"
   ]
  },
  {
   "cell_type": "code",
   "execution_count": null,
   "metadata": {},
   "outputs": [],
   "source": []
  },
  {
   "cell_type": "code",
   "execution_count": null,
   "metadata": {},
   "outputs": [],
   "source": []
  },
  {
   "cell_type": "code",
   "execution_count": null,
   "metadata": {},
   "outputs": [],
   "source": []
  },
  {
   "cell_type": "code",
   "execution_count": 99,
   "metadata": {},
   "outputs": [
    {
     "data": {
      "text/plain": [
       "[['492 24th Place NW'],\n",
       " ['967 03th Place SE'],\n",
       " ['880 81th Place SE'],\n",
       " ['256 32th Place NE'],\n",
       " ['526 03th Place NE']]"
      ]
     },
     "execution_count": 99,
     "metadata": {},
     "output_type": "execute_result"
    }
   ],
   "source": [
    "path = 'foofah/Transformation.Text/Address.000002.txt'\n",
    "with open(path, 'rb') as f:\n",
    "    data = json.load(f)\n",
    "o = transform_dataset(data['TestingTable'])\n",
    "o"
   ]
  },
  {
   "cell_type": "code",
   "execution_count": 95,
   "metadata": {},
   "outputs": [
    {
     "data": {
      "text/plain": [
       "[['Aysu Fatma Ahmed 492 24th Place NW - Edison-AK-(896) 388-9065-000-93-6876-38891'],\n",
       " ['Fiamma Greco 967 03th Place SE - Long Beach-OK-(129) 734-1247-000-61-4879-03719'],\n",
       " ['Muralixxxxx Hasmik Drakou 880 81th Place SE - Brasília-WY-(467) 817-7191-000-47-5407-17293'],\n",
       " ['Joyikuttyxxxxx Charles Arjun 256 32th Place NE - Kiev-AR-(666) 929-0960-000-14-1069-41230'],\n",
       " ['Elise Vadeboncoeur 526 03th Place NE - Curitiba-OH-(993) 525-5024-000-84-6131-03719']]"
      ]
     },
     "execution_count": 95,
     "metadata": {},
     "output_type": "execute_result"
    }
   ],
   "source": [
    "data['TestingTable']"
   ]
  },
  {
   "cell_type": "code",
   "execution_count": 98,
   "metadata": {},
   "outputs": [],
   "source": [
    "def transform_dataset(input_dataset):\n",
    "    output_dataset = []\n",
    "    for data in input_dataset:\n",
    "        address = data[0].split('-')[1]\n",
    "        output_dataset.append([address])\n",
    "    return output_dataset"
   ]
  },
  {
   "cell_type": "code",
   "execution_count": null,
   "metadata": {},
   "outputs": [],
   "source": []
  },
  {
   "cell_type": "code",
   "execution_count": 2,
   "metadata": {},
   "outputs": [],
   "source": [
    "import json\n",
    "from collections import defaultdict"
   ]
  },
  {
   "cell_type": "code",
   "execution_count": 676,
   "metadata": {},
   "outputs": [],
   "source": [
    "name = '48_5'"
   ]
  },
  {
   "cell_type": "code",
   "execution_count": 677,
   "metadata": {},
   "outputs": [],
   "source": [
    "\n",
    "file_name = \"foofah/foofah/exp0_\"+ name+\".txt\" \n",
    "with open(file_name, 'rb') as f:\n",
    "        test_data = json.load(f)"
   ]
  },
  {
   "cell_type": "code",
   "execution_count": 678,
   "metadata": {},
   "outputs": [
    {
     "data": {
      "text/plain": [
       "[['Company A', 'Address 1', 'City', 'State', 'Zip', 'Phone', ''],\n",
       " ['Company B', 'Address 1', 'City', 'State', 'Zip', '', ''],\n",
       " ['Company C', 'Address 1', 'City', 'State', 'Zip', 'Phone', 'Website'],\n",
       " ['Company D', '770 Oak Lane', 'Grand Forks', 'ND', '58201', '', ''],\n",
       " ['Company E', '833 South Street', 'Bowie', 'MD', '20715', '', '']]"
      ]
     },
     "execution_count": 678,
     "metadata": {},
     "output_type": "execute_result"
    }
   ],
   "source": [
    "test_data['OutputTable']"
   ]
  },
  {
   "cell_type": "code",
   "execution_count": 669,
   "metadata": {},
   "outputs": [
    {
     "data": {
      "text/plain": [
       "13"
      ]
     },
     "execution_count": 669,
     "metadata": {},
     "output_type": "execute_result"
    }
   ],
   "source": [
    "len(test_data['TestAnswer'][0])"
   ]
  },
  {
   "cell_type": "code",
   "execution_count": 674,
   "metadata": {},
   "outputs": [
    {
     "data": {
      "text/plain": [
       "[['C', 'B', 'C', 'C', 'C', 'C', 'C', 'C', 'C', 'C', 'B', 'B']]"
      ]
     },
     "execution_count": 674,
     "metadata": {},
     "output_type": "execute_result"
    }
   ],
   "source": [
    "output = test_data['TestAnswer'][1]\n",
    "output = [output[1:]]\n",
    "output"
   ]
  },
  {
   "cell_type": "code",
   "execution_count": 628,
   "metadata": {},
   "outputs": [
    {
     "name": "stdout",
     "output_type": "stream",
     "text": [
      "5 3\n"
     ]
    }
   ],
   "source": [
    "print(len(test_data[\"OutputTable\"][0]),len(test_data[\"TestAnswer\"][0]))"
   ]
  },
  {
   "cell_type": "code",
   "execution_count": 629,
   "metadata": {},
   "outputs": [
    {
     "data": {
      "text/plain": [
       "[['Bob', 'Dan', 'Michael']]"
      ]
     },
     "execution_count": 629,
     "metadata": {},
     "output_type": "execute_result"
    }
   ],
   "source": [
    "output = []\n",
    "for o in  test_data['TestAnswer']:\n",
    "    output.append(o[0:len(test_data[\"OutputTable\"][0])])\n",
    "output"
   ]
  },
  {
   "cell_type": "code",
   "execution_count": 475,
   "metadata": {},
   "outputs": [
    {
     "data": {
      "text/plain": [
       "[['Pants', 'Yellow'],\n",
       " ['Pants', 'Blue'],\n",
       " ['Pants', 'Green'],\n",
       " ['Pants', 'Orange'],\n",
       " ['Pants', 'Red'],\n",
       " ['Scarf', 'Green'],\n",
       " ['Scarf', 'Orange'],\n",
       " ['Scarf', 'Red'],\n",
       " ['Scarf', 'Yellow'],\n",
       " ['Scarf', 'Blue'],\n",
       " ['Glove', 'Blue'],\n",
       " ['Glove', 'Purple'],\n",
       " ['Glove', 'Red'],\n",
       " ['Glove', 'Yellow'],\n",
       " ['Glove', 'Green'],\n",
       " ['Shoes', 'Black'],\n",
       " ['Shoes', 'White'],\n",
       " ['Shoes', 'Grey'],\n",
       " ['Shoes', 'Red'],\n",
       " ['Shoes', 'Yellow']]"
      ]
     },
     "execution_count": 475,
     "metadata": {},
     "output_type": "execute_result"
    }
   ],
   "source": [
    "test_data['TestAnswer']"
   ]
  },
  {
   "cell_type": "code",
   "execution_count": 402,
   "metadata": {},
   "outputs": [
    {
     "ename": "IndexError",
     "evalue": "list index out of range",
     "output_type": "error",
     "traceback": [
      "\u001b[0;31m---------------------------------------------------------------------------\u001b[0m",
      "\u001b[0;31mIndexError\u001b[0m                                Traceback (most recent call last)",
      "Cell \u001b[0;32mIn[402], line 8\u001b[0m\n\u001b[1;32m      6\u001b[0m outputdata \u001b[38;5;241m=\u001b[39m test_data[\u001b[38;5;124m'\u001b[39m\u001b[38;5;124mOutputTable\u001b[39m\u001b[38;5;124m'\u001b[39m]\n\u001b[1;32m      7\u001b[0m temp_dic[\u001b[38;5;124m\"\u001b[39m\u001b[38;5;124mInput\u001b[39m\u001b[38;5;124m\"\u001b[39m] \u001b[38;5;241m=\u001b[39m data[i]\n\u001b[0;32m----> 8\u001b[0m temp_dic[\u001b[38;5;124m\"\u001b[39m\u001b[38;5;124mOutput\u001b[39m\u001b[38;5;124m\"\u001b[39m] \u001b[38;5;241m=\u001b[39m \u001b[43moutputdata\u001b[49m\u001b[43m[\u001b[49m\u001b[43mi\u001b[49m\u001b[43m]\u001b[49m\n\u001b[1;32m      9\u001b[0m temp\u001b[38;5;241m.\u001b[39mappend(temp_dic)\n\u001b[1;32m     10\u001b[0m temp_dic \u001b[38;5;241m=\u001b[39m {}\n",
      "\u001b[0;31mIndexError\u001b[0m: list index out of range"
     ]
    }
   ],
   "source": [
    "temp = []\n",
    "dic = {}\n",
    "temp_dic ={}\n",
    "for i in range(len(test_data['OutputTable'])):\n",
    "    data = test_data['InputTable']\n",
    "    outputdata = test_data['OutputTable']\n",
    "    temp_dic[\"Input\"] = data[1]\n",
    "    temp_dic[\"Output\"] = outputdata[i]\n",
    "    temp.append(temp_dic)\n",
    "    temp_dic = {}\n",
    "\n",
    "# for i in range(len(test_data['TestingTable'])):\n",
    "#     data = test_data['TestingTable']\n",
    "#     outputdata = test_data['TestAnswer']\n",
    "#     temp_dic[\"Input\"] = data[i]\n",
    "#     temp_dic[\"Output\"] = outputdata[i]\n",
    "#     temp.append(temp_dic)\n",
    "#     temp_dic = {}\n",
    "dic[\"Examples\"] = temp"
   ]
  },
  {
   "cell_type": "code",
   "execution_count": 381,
   "metadata": {},
   "outputs": [
    {
     "data": {
      "text/plain": [
       "{}"
      ]
     },
     "execution_count": 381,
     "metadata": {},
     "output_type": "execute_result"
    }
   ],
   "source": [
    "dic"
   ]
  },
  {
   "cell_type": "code",
   "execution_count": 377,
   "metadata": {},
   "outputs": [],
   "source": [
    "path = \"prose/foofah/exp0_\"+ name + \".json\"\n",
    "with open(path, \"w\") as file:   \n",
    "            json.dump(dic, file)"
   ]
  },
  {
   "cell_type": "code",
   "execution_count": 675,
   "metadata": {},
   "outputs": [],
   "source": [
    "out_path = \"../output/prose/foofah/exp0_\" + name + \".json\"\n",
    "with open(out_path, \"w\") as file:   \n",
    "            json.dump(output, file)"
   ]
  },
  {
   "cell_type": "code",
   "execution_count": null,
   "metadata": {},
   "outputs": [],
   "source": []
  }
 ],
 "metadata": {
  "kernelspec": {
   "display_name": "Python 3",
   "language": "python",
   "name": "python3"
  },
  "language_info": {
   "codemirror_mode": {
    "name": "ipython",
    "version": 3
   },
   "file_extension": ".py",
   "mimetype": "text/x-python",
   "name": "python",
   "nbconvert_exporter": "python",
   "pygments_lexer": "ipython3",
   "version": "3.11.5"
  }
 },
 "nbformat": 4,
 "nbformat_minor": 2
}
