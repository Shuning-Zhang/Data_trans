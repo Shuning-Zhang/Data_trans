{
 "cells": [
  {
   "cell_type": "code",
   "execution_count": 1,
   "metadata": {},
   "outputs": [],
   "source": [
    "import sys\n",
    "sys.path.append('..')\n",
    "from data_access import read_in_data, read_output_data"
   ]
  },
  {
   "cell_type": "code",
   "execution_count": 54,
   "metadata": {},
   "outputs": [],
   "source": [
    "def calculate_acc(lower_bound = 2, upper_bound = 0):\n",
    "        # Read in data\n",
    "    acc = []\n",
    "    for j in range(lower_bound,upper_bound):\n",
    "        for i in range(1,6):\n",
    "            print(i,j)\n",
    "            path = 'exp0_'+str(j) + '_'+ str(i)+'_new'+ '.txt'\n",
    "            input_data, test_data = read_in_data('../data/foofah/' + path)\n",
    "            output_data = read_output_data('../output/foofah/output_data_0_'+str(j) + '_'+ str(i)+'_new'+ '.json')\n",
    "\n",
    "            # Calculate accuracy\n",
    "            if output_data[0]:\n",
    "                acc_temp = 0\n",
    "                # print(j,i)\n",
    "                for k in range(min(len(output_data[0]),len(test_data[1]))):\n",
    "                    if output_data[0][k] == test_data[1][k]:\n",
    "                        acc_temp += 1\n",
    "                acc.append(acc_temp/max(len(output_data[0]),len(test_data[1])))\n",
    "            else:\n",
    "                acc.append(0)\n",
    "    return acc\n"
   ]
  },
  {
   "cell_type": "code",
   "execution_count": 57,
   "metadata": {},
   "outputs": [
    {
     "name": "stdout",
     "output_type": "stream",
     "text": [
      "1 3\n",
      "2 3\n",
      "3 3\n",
      "4 3\n",
      "5 3\n"
     ]
    }
   ],
   "source": [
    "\n",
    "acc1 = calculate_acc(3,4)"
   ]
  },
  {
   "cell_type": "code",
   "execution_count": 58,
   "metadata": {},
   "outputs": [
    {
     "data": {
      "text/plain": [
       "0.0615909090909091"
      ]
     },
     "execution_count": 58,
     "metadata": {},
     "output_type": "execute_result"
    }
   ],
   "source": [
    "(sum(acc1)+sum(acc2)) /(len(acc1)+len(acc2)+5)"
   ]
  },
  {
   "cell_type": "code",
   "execution_count": null,
   "metadata": {},
   "outputs": [],
   "source": []
  },
  {
   "cell_type": "markdown",
   "metadata": {},
   "source": [
    "### Foofah on Foofah"
   ]
  },
  {
   "cell_type": "code",
   "execution_count": 44,
   "metadata": {},
   "outputs": [],
   "source": [
    "import os\n",
    "import json\n",
    "\n",
    "# Specify the folder path\n",
    "output_folder_path = '../output/foofah/foofah'\n",
    "acc = []\n",
    "count = 0\n",
    "\n",
    "# Iterate over all files in the folder\n",
    "for filename in os.listdir(output_folder_path):\n",
    "    count += 1\n",
    "    # Construct the full file path\n",
    "    output_full_path = os.path.join(output_folder_path, filename)\n",
    "    answer_path = \"../data/foofah/foofah/exp0\"+filename[12:]\n",
    "\n",
    "    input_data, test_data = read_in_data(answer_path)\n",
    "    #output_data = read_output_data('../output/foofah/output_data_0_'+str(j) + '_'+ str(i)+'_new'+ '.json')\n",
    "    with open(output_full_path, 'rb') as f:\n",
    "        output_data = json.load(f)\n",
    "\n",
    "        # Calculate accuracy\n",
    "        if output_data:\n",
    "            acc_temp = 0\n",
    "                # print(j,i)\n",
    "            for k in range(min(len(output_data),len(test_data[1]))):\n",
    "                for j in range(min(len(output_data[k]),len(test_data[1][k]))):\n",
    "                    if output_data[k][j] == test_data[1][k][j]:\n",
    "                        acc_temp += 1\n",
    "            acc.append(acc_temp/max(len(output_data[k]),len(test_data[1][k])))\n",
    "        else:\n",
    "            acc.append(0)\n",
    "        "
   ]
  },
  {
   "cell_type": "code",
   "execution_count": 37,
   "metadata": {},
   "outputs": [],
   "source": [
    "output_folder_path = '../data/foofah/foofah'\n",
    "count_train = 0\n",
    "\n",
    "# Iterate over all files in the folder\n",
    "for filename in os.listdir(output_folder_path):\n",
    "    count_train += 1"
   ]
  },
  {
   "cell_type": "code",
   "execution_count": 38,
   "metadata": {},
   "outputs": [
    {
     "data": {
      "text/plain": [
       "256"
      ]
     },
     "execution_count": 38,
     "metadata": {},
     "output_type": "execute_result"
    }
   ],
   "source": [
    "count_train"
   ]
  },
  {
   "cell_type": "markdown",
   "metadata": {},
   "source": [
    "### Foofah Prose"
   ]
  },
  {
   "cell_type": "code",
   "execution_count": 2,
   "metadata": {},
   "outputs": [],
   "source": [
    "visited_file = []"
   ]
  },
  {
   "cell_type": "code",
   "execution_count": 33,
   "metadata": {},
   "outputs": [
    {
     "name": "stdout",
     "output_type": "stream",
     "text": [
      "Currency.000005\n",
      "Phone.000017\n",
      "Address.000012\n",
      "DateTime.000092\n",
      "Name.000027\n",
      "Address.000010\n",
      "Rating.000002\n",
      "Phone.000011\n",
      "Phone.000008\n",
      "Email.000013\n",
      "DateTime.000013\n",
      "UserAgent.000007\n",
      "City.000011\n",
      "UserAgent.000005\n",
      "DateTime.000096\n",
      "Email.000011\n",
      "Name.000040\n",
      "Phone.000013\n",
      "DateTime.000037\n",
      "UserAgent.000002\n",
      "Address.000011\n",
      "BillingCode.000008\n",
      "ShippingCode.000009\n",
      "DateTime.000010\n",
      "Number.000026\n",
      "Log.000022\n",
      "Email.000010\n",
      "DateTime.000097\n",
      "City.000012\n",
      "DateTime.000012\n",
      "DateTime.000036\n",
      "Number.000024\n",
      "Address.000008\n",
      "DateTime.000009\n",
      "UserAgent.000006\n",
      "DateTime.000099\n",
      "Phone.000005\n",
      "Number.000092\n",
      "DateTime.000101\n",
      "ShippingCode.000003\n",
      "DateTime.000038\n",
      "Name.000031\n",
      "Address.000006\n",
      "Name.000037\n",
      "Name.000035\n",
      "Address.000004\n",
      "Number.000090\n",
      "State.000003\n",
      "DateTime.000103\n",
      "Name.000028\n",
      "DateTime.000107\n",
      "Phone.000003\n",
      "Phrase.000003\n",
      "ShippingCode.000005\n",
      "ShippingCode.000007\n",
      "Phone.000001\n",
      "DateTime.000105\n",
      "Number.000089\n",
      "Address.000005\n",
      "DateTime.000043\n",
      "Name.000034\n",
      "Phone.000004\n",
      "Name.000030\n",
      "Address.000007\n",
      "Word.000001\n",
      "Song.000001\n",
      "ShippingCode.000002\n",
      "Name.000032\n",
      "BillingCode.000001\n",
      "Number.000091\n",
      "ShippingCode.000001\n",
      "DateTime.000104\n",
      "Name.000014\n",
      "FilePath.000005\n",
      "Name.000029\n",
      "ShippingCode.000004\n"
     ]
    }
   ],
   "source": [
    "import os\n",
    "import json\n",
    "acc = []\n",
    "visited_file = []\n",
    "folder_path = \"../data/foofah/Transformation.Text/\"\n",
    "answer_path = \"../output/foofah/prose/validate\"\n",
    "for sub_file in os.listdir(answer_path):\n",
    "    if sub_file != '.DS_Store' and sub_file not in visited_file:\n",
    "       \n",
    "        temp_sub_file = sub_file.split(\"_\")\n",
    "        temp_sub_file = temp_sub_file[2]\n",
    "        print(temp_sub_file)\n",
    "\n",
    "        visited_file.append(sub_file)\n",
    "        file_path = \"../data/foofah/Transformation.Text/\"+temp_sub_file+ '.txt'\n",
    "        input_data, test_data =read_in_data(file_path)\n",
    "        answer_path = \"../output/foofah/prose/validate/\"+sub_file\n",
    "\n",
    "        with open(answer_path, 'rb') as f:\n",
    "            output_data = json.load(f)\n",
    "\n",
    "        # Calculate accuracy\n",
    "        if output_data:\n",
    "            acc_temp = 0\n",
    "                    # print(j,i)\n",
    "            for k in range(min(len(output_data),len(test_data[1]))):\n",
    "                for j in range(min(len(output_data[k]),len(test_data[1][k]))):\n",
    "                    if output_data[k][j] == test_data[1][k][j]:\n",
    "                        acc_temp += 1\n",
    "            acc.append([temp_sub_file, acc_temp/max(len(output_data),len(test_data[1]))])\n",
    "        else:\n",
    "            acc.append([temp_sub_file,0])\n"
   ]
  },
  {
   "cell_type": "code",
   "execution_count": 32,
   "metadata": {},
   "outputs": [],
   "source": [
    "import pandas as pd\n",
    "df = pd.DataFrame(acc)\n",
    "df.to_excel('acc_fooah.xlsx')"
   ]
  },
  {
   "cell_type": "code",
   "execution_count": 25,
   "metadata": {},
   "outputs": [
    {
     "data": {
      "text/plain": [
       "100"
      ]
     },
     "execution_count": 25,
     "metadata": {},
     "output_type": "execute_result"
    }
   ],
   "source": [
    "len(output_data)"
   ]
  },
  {
   "cell_type": "code",
   "execution_count": 28,
   "metadata": {},
   "outputs": [
    {
     "data": {
      "text/plain": [
       "'3957'"
      ]
     },
     "execution_count": 28,
     "metadata": {},
     "output_type": "execute_result"
    }
   ],
   "source": [
    "test_data[1][1][0]"
   ]
  }
 ],
 "metadata": {
  "kernelspec": {
   "display_name": "Python 3",
   "language": "python",
   "name": "python3"
  },
  "language_info": {
   "codemirror_mode": {
    "name": "ipython",
    "version": 3
   },
   "file_extension": ".py",
   "mimetype": "text/x-python",
   "name": "python",
   "nbconvert_exporter": "python",
   "pygments_lexer": "ipython3",
   "version": "3.12.3"
  }
 },
 "nbformat": 4,
 "nbformat_minor": 2
}
