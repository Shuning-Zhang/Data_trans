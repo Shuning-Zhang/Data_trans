{
 "cells": [
  {
   "cell_type": "code",
   "execution_count": 1,
   "metadata": {},
   "outputs": [],
   "source": [
    "import pandas as pd"
   ]
  },
  {
   "cell_type": "code",
   "execution_count": 30,
   "metadata": {},
   "outputs": [],
   "source": [
    "# Writing the extracted code to a Python file and then running it\n",
    "def write_and_run_code_from_csv(csv_path, output_file_path):\n",
    "    # Read the CSV file\n",
    "    df = pd.read_csv(csv_path)\n",
    "\n",
    "    \n",
    "    # Extract the code as a string\n",
    "    # code = '#2_1\\n' + sun_df['output'].dropna().str.cat(sep='\\n')\n",
    "    for line in df.itertuples():\n",
    "        code = line[2]\n",
    "    \n",
    "    # # Write the code to a Python file\n",
    "        with open(output_file_path+line[1]+'.py', 'w') as file:\n",
    "            file.write(code)\n",
    "    \n",
    "    # Execute the Python file\n",
    "    # exec(open(output_file_path).read())\n",
    "\n"
   ]
  },
  {
   "cell_type": "code",
   "execution_count": 31,
   "metadata": {},
   "outputs": [],
   "source": [
    "# Usage\n",
    "csv_file_path = 'output_chat_llama2-13b.csv'  # Replace with the path to your CSV file\n",
    "code_column_name = 'column_with_python_code'  # Replace with the name of the column containing the code\n",
    "python_output_file = 'output_code'  # Replace with the desired Python file path\n",
    "write_and_run_code_from_csv(csv_file_path, python_output_file)"
   ]
  }
 ],
 "metadata": {
  "kernelspec": {
   "display_name": "Python 3",
   "language": "python",
   "name": "python3"
  },
  "language_info": {
   "codemirror_mode": {
    "name": "ipython",
    "version": 3
   },
   "file_extension": ".py",
   "mimetype": "text/x-python",
   "name": "python",
   "nbconvert_exporter": "python",
   "pygments_lexer": "ipython3",
   "version": "3.undefined.undefined"
  }
 },
 "nbformat": 4,
 "nbformat_minor": 2
}
